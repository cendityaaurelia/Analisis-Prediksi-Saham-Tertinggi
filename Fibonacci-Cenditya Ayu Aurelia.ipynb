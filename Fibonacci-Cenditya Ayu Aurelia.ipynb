{
 "cells": [
  {
   "cell_type": "markdown",
   "metadata": {},
   "source": [
    "### Cenditya Ayu Aurelia \n",
    "### Kelas Fibonacci\n",
    "### NPM 20083010023\n",
    "### Ujian Praktik Data Science"
   ]
  },
  {
   "cell_type": "markdown",
   "metadata": {},
   "source": [
    "# Analisis Prediksi Harga Saham Tertinggi PT Telkom dengan Menggunakan Metode ARIMA"
   ]
  },
  {
   "cell_type": "markdown",
   "metadata": {},
   "source": [
    "# 1. Import Library"
   ]
  },
  {
   "cell_type": "markdown",
   "metadata": {},
   "source": [
    "Import library terlebih dahulu yang akan digunakan"
   ]
  },
  {
   "cell_type": "code",
   "execution_count": 78,
   "metadata": {},
   "outputs": [],
   "source": [
    "import numpy as np\n",
    "import pandas as pd\n",
    "import matplotlib.pyplot as plt \n",
    "import seaborn as sns\n",
    "%matplotlib inline\n",
    "\n",
    "import seaborn as sns\n",
    "from statsmodels.tsa.stattools import adfuller\n",
    "from statsmodels.tsa.seasonal import seasonal_decompose\n",
    "from statsmodels.graphics.tsaplots import plot_acf\n",
    "from statsmodels.graphics.tsaplots import plot_pacf\n",
    "from statsmodels.tsa.arima_model import ARIMA\n",
    "from sklearn.metrics import mean_squared_error\n",
    "from statsmodels.tools.eval_measures import rmse\n",
    "from math import sqrt\n",
    "\n",
    "import warnings\n",
    "warnings.filterwarnings('ignore')"
   ]
  },
  {
   "cell_type": "markdown",
   "metadata": {},
   "source": [
    "# 2. Import Dataset"
   ]
  },
  {
   "cell_type": "markdown",
   "metadata": {},
   "source": [
    "Import dataset dengan menggunakan data TLKM.JK.csv yang dapat di download [disini](https://drive.google.com/file/d/10OwSp3vmo3fd67mvCfhKvUrGJMzVWJjf/view?usp=sharing). Setelah itu, langkah selanjutnya adalah membaca/loading dataset TLKM.JK.csv dengan menggunakan perintah read_csv pada fungsi pandas."
   ]
  },
  {
   "cell_type": "code",
   "execution_count": 79,
   "metadata": {},
   "outputs": [],
   "source": [
    "data = pd.read_csv(\"TLKM.JK.csv\")"
   ]
  },
  {
   "cell_type": "code",
   "execution_count": 80,
   "metadata": {},
   "outputs": [
    {
     "data": {
      "text/html": [
       "<div>\n",
       "<style scoped>\n",
       "    .dataframe tbody tr th:only-of-type {\n",
       "        vertical-align: middle;\n",
       "    }\n",
       "\n",
       "    .dataframe tbody tr th {\n",
       "        vertical-align: top;\n",
       "    }\n",
       "\n",
       "    .dataframe thead th {\n",
       "        text-align: right;\n",
       "    }\n",
       "</style>\n",
       "<table border=\"1\" class=\"dataframe\">\n",
       "  <thead>\n",
       "    <tr style=\"text-align: right;\">\n",
       "      <th></th>\n",
       "      <th>Date</th>\n",
       "      <th>Open</th>\n",
       "      <th>High</th>\n",
       "      <th>Low</th>\n",
       "      <th>Close</th>\n",
       "      <th>Adj Close</th>\n",
       "      <th>Volume</th>\n",
       "    </tr>\n",
       "  </thead>\n",
       "  <tbody>\n",
       "    <tr>\n",
       "      <th>0</th>\n",
       "      <td>2017-01-02</td>\n",
       "      <td>3980.0</td>\n",
       "      <td>3980.0</td>\n",
       "      <td>3980.0</td>\n",
       "      <td>3980.0</td>\n",
       "      <td>3310.131592</td>\n",
       "      <td>0.0</td>\n",
       "    </tr>\n",
       "    <tr>\n",
       "      <th>1</th>\n",
       "      <td>2017-01-03</td>\n",
       "      <td>3950.0</td>\n",
       "      <td>3990.0</td>\n",
       "      <td>3920.0</td>\n",
       "      <td>3950.0</td>\n",
       "      <td>3285.180664</td>\n",
       "      <td>71660600.0</td>\n",
       "    </tr>\n",
       "    <tr>\n",
       "      <th>2</th>\n",
       "      <td>2017-01-04</td>\n",
       "      <td>3880.0</td>\n",
       "      <td>3980.0</td>\n",
       "      <td>3880.0</td>\n",
       "      <td>3950.0</td>\n",
       "      <td>3285.180664</td>\n",
       "      <td>68494500.0</td>\n",
       "    </tr>\n",
       "    <tr>\n",
       "      <th>3</th>\n",
       "      <td>2017-01-05</td>\n",
       "      <td>3960.0</td>\n",
       "      <td>4030.0</td>\n",
       "      <td>3940.0</td>\n",
       "      <td>3950.0</td>\n",
       "      <td>3285.180664</td>\n",
       "      <td>74018400.0</td>\n",
       "    </tr>\n",
       "    <tr>\n",
       "      <th>4</th>\n",
       "      <td>2017-01-06</td>\n",
       "      <td>3970.0</td>\n",
       "      <td>4010.0</td>\n",
       "      <td>3960.0</td>\n",
       "      <td>4000.0</td>\n",
       "      <td>3326.765381</td>\n",
       "      <td>44136900.0</td>\n",
       "    </tr>\n",
       "    <tr>\n",
       "      <th>...</th>\n",
       "      <td>...</td>\n",
       "      <td>...</td>\n",
       "      <td>...</td>\n",
       "      <td>...</td>\n",
       "      <td>...</td>\n",
       "      <td>...</td>\n",
       "      <td>...</td>\n",
       "    </tr>\n",
       "    <tr>\n",
       "      <th>1417</th>\n",
       "      <td>2022-08-26</td>\n",
       "      <td>4510.0</td>\n",
       "      <td>4540.0</td>\n",
       "      <td>4480.0</td>\n",
       "      <td>4490.0</td>\n",
       "      <td>4490.000000</td>\n",
       "      <td>184317100.0</td>\n",
       "    </tr>\n",
       "    <tr>\n",
       "      <th>1418</th>\n",
       "      <td>2022-08-29</td>\n",
       "      <td>4370.0</td>\n",
       "      <td>4550.0</td>\n",
       "      <td>4360.0</td>\n",
       "      <td>4520.0</td>\n",
       "      <td>4520.000000</td>\n",
       "      <td>101529800.0</td>\n",
       "    </tr>\n",
       "    <tr>\n",
       "      <th>1419</th>\n",
       "      <td>2022-08-30</td>\n",
       "      <td>4580.0</td>\n",
       "      <td>4620.0</td>\n",
       "      <td>4480.0</td>\n",
       "      <td>4480.0</td>\n",
       "      <td>4480.000000</td>\n",
       "      <td>118884300.0</td>\n",
       "    </tr>\n",
       "    <tr>\n",
       "      <th>1420</th>\n",
       "      <td>2022-08-31</td>\n",
       "      <td>4420.0</td>\n",
       "      <td>4600.0</td>\n",
       "      <td>4420.0</td>\n",
       "      <td>4560.0</td>\n",
       "      <td>4560.000000</td>\n",
       "      <td>175300400.0</td>\n",
       "    </tr>\n",
       "    <tr>\n",
       "      <th>1421</th>\n",
       "      <td>2022-09-01</td>\n",
       "      <td>4560.0</td>\n",
       "      <td>4650.0</td>\n",
       "      <td>4530.0</td>\n",
       "      <td>4580.0</td>\n",
       "      <td>4580.000000</td>\n",
       "      <td>120871700.0</td>\n",
       "    </tr>\n",
       "  </tbody>\n",
       "</table>\n",
       "<p>1422 rows × 7 columns</p>\n",
       "</div>"
      ],
      "text/plain": [
       "            Date    Open    High     Low   Close    Adj Close       Volume\n",
       "0     2017-01-02  3980.0  3980.0  3980.0  3980.0  3310.131592          0.0\n",
       "1     2017-01-03  3950.0  3990.0  3920.0  3950.0  3285.180664   71660600.0\n",
       "2     2017-01-04  3880.0  3980.0  3880.0  3950.0  3285.180664   68494500.0\n",
       "3     2017-01-05  3960.0  4030.0  3940.0  3950.0  3285.180664   74018400.0\n",
       "4     2017-01-06  3970.0  4010.0  3960.0  4000.0  3326.765381   44136900.0\n",
       "...          ...     ...     ...     ...     ...          ...          ...\n",
       "1417  2022-08-26  4510.0  4540.0  4480.0  4490.0  4490.000000  184317100.0\n",
       "1418  2022-08-29  4370.0  4550.0  4360.0  4520.0  4520.000000  101529800.0\n",
       "1419  2022-08-30  4580.0  4620.0  4480.0  4480.0  4480.000000  118884300.0\n",
       "1420  2022-08-31  4420.0  4600.0  4420.0  4560.0  4560.000000  175300400.0\n",
       "1421  2022-09-01  4560.0  4650.0  4530.0  4580.0  4580.000000  120871700.0\n",
       "\n",
       "[1422 rows x 7 columns]"
      ]
     },
     "execution_count": 80,
     "metadata": {},
     "output_type": "execute_result"
    }
   ],
   "source": [
    "# Menampilkan data TLKM.JK\n",
    "data"
   ]
  },
  {
   "cell_type": "markdown",
   "metadata": {},
   "source": [
    "Dari output tabel diatas, menunjukkan jumlah data pada dataset terdapat 1422 baris dan 7 kolom."
   ]
  },
  {
   "cell_type": "markdown",
   "metadata": {},
   "source": [
    "# 3. Preprocessing Data"
   ]
  },
  {
   "cell_type": "markdown",
   "metadata": {},
   "source": [
    "Sebelum melakukan tahap selanjutnya, data harus dipersiapkan terlebih dahulu agar siap untuk diolah dengan tujuan meminimalkan kesalahan dan mengoptimalkan model yang akan dihasilkan. "
   ]
  },
  {
   "cell_type": "code",
   "execution_count": 81,
   "metadata": {},
   "outputs": [
    {
     "data": {
      "text/html": [
       "<div>\n",
       "<style scoped>\n",
       "    .dataframe tbody tr th:only-of-type {\n",
       "        vertical-align: middle;\n",
       "    }\n",
       "\n",
       "    .dataframe tbody tr th {\n",
       "        vertical-align: top;\n",
       "    }\n",
       "\n",
       "    .dataframe thead th {\n",
       "        text-align: right;\n",
       "    }\n",
       "</style>\n",
       "<table border=\"1\" class=\"dataframe\">\n",
       "  <thead>\n",
       "    <tr style=\"text-align: right;\">\n",
       "      <th></th>\n",
       "      <th>Date</th>\n",
       "      <th>Open</th>\n",
       "      <th>High</th>\n",
       "      <th>Low</th>\n",
       "      <th>Close</th>\n",
       "      <th>Adj Close</th>\n",
       "      <th>Volume</th>\n",
       "    </tr>\n",
       "  </thead>\n",
       "  <tbody>\n",
       "    <tr>\n",
       "      <th>0</th>\n",
       "      <td>2017-01-02</td>\n",
       "      <td>3980.0</td>\n",
       "      <td>3980.0</td>\n",
       "      <td>3980.0</td>\n",
       "      <td>3980.0</td>\n",
       "      <td>3310.131592</td>\n",
       "      <td>0.0</td>\n",
       "    </tr>\n",
       "    <tr>\n",
       "      <th>1</th>\n",
       "      <td>2017-01-03</td>\n",
       "      <td>3950.0</td>\n",
       "      <td>3990.0</td>\n",
       "      <td>3920.0</td>\n",
       "      <td>3950.0</td>\n",
       "      <td>3285.180664</td>\n",
       "      <td>71660600.0</td>\n",
       "    </tr>\n",
       "    <tr>\n",
       "      <th>2</th>\n",
       "      <td>2017-01-04</td>\n",
       "      <td>3880.0</td>\n",
       "      <td>3980.0</td>\n",
       "      <td>3880.0</td>\n",
       "      <td>3950.0</td>\n",
       "      <td>3285.180664</td>\n",
       "      <td>68494500.0</td>\n",
       "    </tr>\n",
       "    <tr>\n",
       "      <th>3</th>\n",
       "      <td>2017-01-05</td>\n",
       "      <td>3960.0</td>\n",
       "      <td>4030.0</td>\n",
       "      <td>3940.0</td>\n",
       "      <td>3950.0</td>\n",
       "      <td>3285.180664</td>\n",
       "      <td>74018400.0</td>\n",
       "    </tr>\n",
       "    <tr>\n",
       "      <th>4</th>\n",
       "      <td>2017-01-06</td>\n",
       "      <td>3970.0</td>\n",
       "      <td>4010.0</td>\n",
       "      <td>3960.0</td>\n",
       "      <td>4000.0</td>\n",
       "      <td>3326.765381</td>\n",
       "      <td>44136900.0</td>\n",
       "    </tr>\n",
       "  </tbody>\n",
       "</table>\n",
       "</div>"
      ],
      "text/plain": [
       "         Date    Open    High     Low   Close    Adj Close      Volume\n",
       "0  2017-01-02  3980.0  3980.0  3980.0  3980.0  3310.131592         0.0\n",
       "1  2017-01-03  3950.0  3990.0  3920.0  3950.0  3285.180664  71660600.0\n",
       "2  2017-01-04  3880.0  3980.0  3880.0  3950.0  3285.180664  68494500.0\n",
       "3  2017-01-05  3960.0  4030.0  3940.0  3950.0  3285.180664  74018400.0\n",
       "4  2017-01-06  3970.0  4010.0  3960.0  4000.0  3326.765381  44136900.0"
      ]
     },
     "execution_count": 81,
     "metadata": {},
     "output_type": "execute_result"
    }
   ],
   "source": [
    "# Menampilkan 5 baris teratas dari dataset\n",
    "data.head()"
   ]
  },
  {
   "cell_type": "code",
   "execution_count": 82,
   "metadata": {},
   "outputs": [
    {
     "data": {
      "text/html": [
       "<div>\n",
       "<style scoped>\n",
       "    .dataframe tbody tr th:only-of-type {\n",
       "        vertical-align: middle;\n",
       "    }\n",
       "\n",
       "    .dataframe tbody tr th {\n",
       "        vertical-align: top;\n",
       "    }\n",
       "\n",
       "    .dataframe thead th {\n",
       "        text-align: right;\n",
       "    }\n",
       "</style>\n",
       "<table border=\"1\" class=\"dataframe\">\n",
       "  <thead>\n",
       "    <tr style=\"text-align: right;\">\n",
       "      <th></th>\n",
       "      <th>Date</th>\n",
       "      <th>Open</th>\n",
       "      <th>High</th>\n",
       "      <th>Low</th>\n",
       "      <th>Close</th>\n",
       "      <th>Adj Close</th>\n",
       "      <th>Volume</th>\n",
       "    </tr>\n",
       "  </thead>\n",
       "  <tbody>\n",
       "    <tr>\n",
       "      <th>1417</th>\n",
       "      <td>2022-08-26</td>\n",
       "      <td>4510.0</td>\n",
       "      <td>4540.0</td>\n",
       "      <td>4480.0</td>\n",
       "      <td>4490.0</td>\n",
       "      <td>4490.0</td>\n",
       "      <td>184317100.0</td>\n",
       "    </tr>\n",
       "    <tr>\n",
       "      <th>1418</th>\n",
       "      <td>2022-08-29</td>\n",
       "      <td>4370.0</td>\n",
       "      <td>4550.0</td>\n",
       "      <td>4360.0</td>\n",
       "      <td>4520.0</td>\n",
       "      <td>4520.0</td>\n",
       "      <td>101529800.0</td>\n",
       "    </tr>\n",
       "    <tr>\n",
       "      <th>1419</th>\n",
       "      <td>2022-08-30</td>\n",
       "      <td>4580.0</td>\n",
       "      <td>4620.0</td>\n",
       "      <td>4480.0</td>\n",
       "      <td>4480.0</td>\n",
       "      <td>4480.0</td>\n",
       "      <td>118884300.0</td>\n",
       "    </tr>\n",
       "    <tr>\n",
       "      <th>1420</th>\n",
       "      <td>2022-08-31</td>\n",
       "      <td>4420.0</td>\n",
       "      <td>4600.0</td>\n",
       "      <td>4420.0</td>\n",
       "      <td>4560.0</td>\n",
       "      <td>4560.0</td>\n",
       "      <td>175300400.0</td>\n",
       "    </tr>\n",
       "    <tr>\n",
       "      <th>1421</th>\n",
       "      <td>2022-09-01</td>\n",
       "      <td>4560.0</td>\n",
       "      <td>4650.0</td>\n",
       "      <td>4530.0</td>\n",
       "      <td>4580.0</td>\n",
       "      <td>4580.0</td>\n",
       "      <td>120871700.0</td>\n",
       "    </tr>\n",
       "  </tbody>\n",
       "</table>\n",
       "</div>"
      ],
      "text/plain": [
       "            Date    Open    High     Low   Close  Adj Close       Volume\n",
       "1417  2022-08-26  4510.0  4540.0  4480.0  4490.0     4490.0  184317100.0\n",
       "1418  2022-08-29  4370.0  4550.0  4360.0  4520.0     4520.0  101529800.0\n",
       "1419  2022-08-30  4580.0  4620.0  4480.0  4480.0     4480.0  118884300.0\n",
       "1420  2022-08-31  4420.0  4600.0  4420.0  4560.0     4560.0  175300400.0\n",
       "1421  2022-09-01  4560.0  4650.0  4530.0  4580.0     4580.0  120871700.0"
      ]
     },
     "execution_count": 82,
     "metadata": {},
     "output_type": "execute_result"
    }
   ],
   "source": [
    "# Menampilkan 5 baris terakhir dari dataset\n",
    "data.tail()"
   ]
  },
  {
   "cell_type": "code",
   "execution_count": 83,
   "metadata": {},
   "outputs": [
    {
     "data": {
      "text/html": [
       "<div>\n",
       "<style scoped>\n",
       "    .dataframe tbody tr th:only-of-type {\n",
       "        vertical-align: middle;\n",
       "    }\n",
       "\n",
       "    .dataframe tbody tr th {\n",
       "        vertical-align: top;\n",
       "    }\n",
       "\n",
       "    .dataframe thead th {\n",
       "        text-align: right;\n",
       "    }\n",
       "</style>\n",
       "<table border=\"1\" class=\"dataframe\">\n",
       "  <thead>\n",
       "    <tr style=\"text-align: right;\">\n",
       "      <th></th>\n",
       "      <th>Open</th>\n",
       "      <th>High</th>\n",
       "      <th>Low</th>\n",
       "      <th>Close</th>\n",
       "      <th>Adj Close</th>\n",
       "      <th>Volume</th>\n",
       "    </tr>\n",
       "  </thead>\n",
       "  <tbody>\n",
       "    <tr>\n",
       "      <th>count</th>\n",
       "      <td>1421.000000</td>\n",
       "      <td>1421.000000</td>\n",
       "      <td>1421.000000</td>\n",
       "      <td>1421.000000</td>\n",
       "      <td>1421.000000</td>\n",
       "      <td>1.421000e+03</td>\n",
       "    </tr>\n",
       "    <tr>\n",
       "      <th>mean</th>\n",
       "      <td>3827.741027</td>\n",
       "      <td>3869.106263</td>\n",
       "      <td>3785.608726</td>\n",
       "      <td>3827.171006</td>\n",
       "      <td>3416.287764</td>\n",
       "      <td>1.021061e+08</td>\n",
       "    </tr>\n",
       "    <tr>\n",
       "      <th>std</th>\n",
       "      <td>490.449096</td>\n",
       "      <td>487.302987</td>\n",
       "      <td>492.470774</td>\n",
       "      <td>492.369542</td>\n",
       "      <td>462.616891</td>\n",
       "      <td>6.629501e+07</td>\n",
       "    </tr>\n",
       "    <tr>\n",
       "      <th>min</th>\n",
       "      <td>2550.000000</td>\n",
       "      <td>2590.000000</td>\n",
       "      <td>2450.000000</td>\n",
       "      <td>2560.000000</td>\n",
       "      <td>2289.641846</td>\n",
       "      <td>0.000000e+00</td>\n",
       "    </tr>\n",
       "    <tr>\n",
       "      <th>25%</th>\n",
       "      <td>3450.000000</td>\n",
       "      <td>3490.000000</td>\n",
       "      <td>3400.000000</td>\n",
       "      <td>3450.000000</td>\n",
       "      <td>3111.957031</td>\n",
       "      <td>6.168190e+07</td>\n",
       "    </tr>\n",
       "    <tr>\n",
       "      <th>50%</th>\n",
       "      <td>3870.000000</td>\n",
       "      <td>3900.000000</td>\n",
       "      <td>3840.000000</td>\n",
       "      <td>3870.000000</td>\n",
       "      <td>3357.914063</td>\n",
       "      <td>8.730300e+07</td>\n",
       "    </tr>\n",
       "    <tr>\n",
       "      <th>75%</th>\n",
       "      <td>4190.000000</td>\n",
       "      <td>4220.000000</td>\n",
       "      <td>4150.000000</td>\n",
       "      <td>4190.000000</td>\n",
       "      <td>3708.230957</td>\n",
       "      <td>1.234112e+08</td>\n",
       "    </tr>\n",
       "    <tr>\n",
       "      <th>max</th>\n",
       "      <td>4850.000000</td>\n",
       "      <td>4850.000000</td>\n",
       "      <td>4780.000000</td>\n",
       "      <td>4800.000000</td>\n",
       "      <td>4750.000000</td>\n",
       "      <td>6.241426e+08</td>\n",
       "    </tr>\n",
       "  </tbody>\n",
       "</table>\n",
       "</div>"
      ],
      "text/plain": [
       "              Open         High          Low        Close    Adj Close  \\\n",
       "count  1421.000000  1421.000000  1421.000000  1421.000000  1421.000000   \n",
       "mean   3827.741027  3869.106263  3785.608726  3827.171006  3416.287764   \n",
       "std     490.449096   487.302987   492.470774   492.369542   462.616891   \n",
       "min    2550.000000  2590.000000  2450.000000  2560.000000  2289.641846   \n",
       "25%    3450.000000  3490.000000  3400.000000  3450.000000  3111.957031   \n",
       "50%    3870.000000  3900.000000  3840.000000  3870.000000  3357.914063   \n",
       "75%    4190.000000  4220.000000  4150.000000  4190.000000  3708.230957   \n",
       "max    4850.000000  4850.000000  4780.000000  4800.000000  4750.000000   \n",
       "\n",
       "             Volume  \n",
       "count  1.421000e+03  \n",
       "mean   1.021061e+08  \n",
       "std    6.629501e+07  \n",
       "min    0.000000e+00  \n",
       "25%    6.168190e+07  \n",
       "50%    8.730300e+07  \n",
       "75%    1.234112e+08  \n",
       "max    6.241426e+08  "
      ]
     },
     "execution_count": 83,
     "metadata": {},
     "output_type": "execute_result"
    }
   ],
   "source": [
    "# Menampilkan deskriptif statistik data dari masing-masing kolom yang bertipe numerik\n",
    "data.describe()"
   ]
  },
  {
   "cell_type": "code",
   "execution_count": 84,
   "metadata": {},
   "outputs": [
    {
     "name": "stdout",
     "output_type": "stream",
     "text": [
      "<class 'pandas.core.frame.DataFrame'>\n",
      "RangeIndex: 1422 entries, 0 to 1421\n",
      "Data columns (total 7 columns):\n",
      " #   Column     Non-Null Count  Dtype  \n",
      "---  ------     --------------  -----  \n",
      " 0   Date       1422 non-null   object \n",
      " 1   Open       1421 non-null   float64\n",
      " 2   High       1421 non-null   float64\n",
      " 3   Low        1421 non-null   float64\n",
      " 4   Close      1421 non-null   float64\n",
      " 5   Adj Close  1421 non-null   float64\n",
      " 6   Volume     1421 non-null   float64\n",
      "dtypes: float64(6), object(1)\n",
      "memory usage: 77.9+ KB\n"
     ]
    }
   ],
   "source": [
    "# Mengetahui informasi umum dari dataset\n",
    "data.info()"
   ]
  },
  {
   "cell_type": "code",
   "execution_count": 85,
   "metadata": {},
   "outputs": [
    {
     "data": {
      "text/plain": [
       "array(['2017-01-02', '2017-01-03', '2017-01-04', ..., '2022-08-30',\n",
       "       '2022-08-31', '2022-09-01'], dtype=object)"
      ]
     },
     "execution_count": 85,
     "metadata": {},
     "output_type": "execute_result"
    }
   ],
   "source": [
    "# Menampilkan semua nilai unik pada Date dengan menggunakan fungsi unique untuk mengetahui apa yang terjadi pada Date yang bertipe object\n",
    "data['Date'].unique() "
   ]
  },
  {
   "cell_type": "code",
   "execution_count": 86,
   "metadata": {},
   "outputs": [
    {
     "data": {
      "text/plain": [
       "(1422, 7)"
      ]
     },
     "execution_count": 86,
     "metadata": {},
     "output_type": "execute_result"
    }
   ],
   "source": [
    "# Menampilkan ukuran dimensi dari dataset\n",
    "data.shape"
   ]
  },
  {
   "cell_type": "markdown",
   "metadata": {},
   "source": [
    "Dari output diatas, ukuran dimensi yang dihasilkan terdapat 1422 jumlah baris dan 7 jumlah kolom dari dataset"
   ]
  },
  {
   "cell_type": "code",
   "execution_count": 87,
   "metadata": {},
   "outputs": [
    {
     "data": {
      "text/plain": [
       "0"
      ]
     },
     "execution_count": 87,
     "metadata": {},
     "output_type": "execute_result"
    }
   ],
   "source": [
    "# Mengetahui adanya data yang duplikat\n",
    "data.duplicated().sum()"
   ]
  },
  {
   "cell_type": "markdown",
   "metadata": {},
   "source": [
    "Dari output diatas, tidak terdapat duplikat pada data"
   ]
  },
  {
   "cell_type": "code",
   "execution_count": 88,
   "metadata": {},
   "outputs": [
    {
     "data": {
      "text/plain": [
       "Date         0\n",
       "Open         1\n",
       "High         1\n",
       "Low          1\n",
       "Close        1\n",
       "Adj Close    1\n",
       "Volume       1\n",
       "dtype: int64"
      ]
     },
     "execution_count": 88,
     "metadata": {},
     "output_type": "execute_result"
    }
   ],
   "source": [
    "# Memeriksa missing values\n",
    "data.isnull().sum() "
   ]
  },
  {
   "cell_type": "markdown",
   "metadata": {},
   "source": [
    "Dari output diatas terdapat data yang mengandung missing value, maka dari itu perlu ditangani agar algoritma dapat bekerja dengan baik jika dataset tidak berisi missing value. Berikut adalah caranya untuk menghapus beberapa data yang mengandung missing values dengan menggantikan atau replace nilai missing values :"
   ]
  },
  {
   "cell_type": "code",
   "execution_count": 89,
   "metadata": {},
   "outputs": [
    {
     "data": {
      "text/html": [
       "<div>\n",
       "<style scoped>\n",
       "    .dataframe tbody tr th:only-of-type {\n",
       "        vertical-align: middle;\n",
       "    }\n",
       "\n",
       "    .dataframe tbody tr th {\n",
       "        vertical-align: top;\n",
       "    }\n",
       "\n",
       "    .dataframe thead th {\n",
       "        text-align: right;\n",
       "    }\n",
       "</style>\n",
       "<table border=\"1\" class=\"dataframe\">\n",
       "  <thead>\n",
       "    <tr style=\"text-align: right;\">\n",
       "      <th></th>\n",
       "      <th>Date</th>\n",
       "      <th>Open</th>\n",
       "      <th>High</th>\n",
       "      <th>Low</th>\n",
       "      <th>Close</th>\n",
       "      <th>Adj Close</th>\n",
       "      <th>Volume</th>\n",
       "    </tr>\n",
       "  </thead>\n",
       "  <tbody>\n",
       "    <tr>\n",
       "      <th>0</th>\n",
       "      <td>2017-01-02</td>\n",
       "      <td>3980.0</td>\n",
       "      <td>3980.0</td>\n",
       "      <td>3980.0</td>\n",
       "      <td>3980.0</td>\n",
       "      <td>3310.131592</td>\n",
       "      <td>0.0</td>\n",
       "    </tr>\n",
       "    <tr>\n",
       "      <th>1</th>\n",
       "      <td>2017-01-03</td>\n",
       "      <td>3950.0</td>\n",
       "      <td>3990.0</td>\n",
       "      <td>3920.0</td>\n",
       "      <td>3950.0</td>\n",
       "      <td>3285.180664</td>\n",
       "      <td>71660600.0</td>\n",
       "    </tr>\n",
       "    <tr>\n",
       "      <th>2</th>\n",
       "      <td>2017-01-04</td>\n",
       "      <td>3880.0</td>\n",
       "      <td>3980.0</td>\n",
       "      <td>3880.0</td>\n",
       "      <td>3950.0</td>\n",
       "      <td>3285.180664</td>\n",
       "      <td>68494500.0</td>\n",
       "    </tr>\n",
       "    <tr>\n",
       "      <th>3</th>\n",
       "      <td>2017-01-05</td>\n",
       "      <td>3960.0</td>\n",
       "      <td>4030.0</td>\n",
       "      <td>3940.0</td>\n",
       "      <td>3950.0</td>\n",
       "      <td>3285.180664</td>\n",
       "      <td>74018400.0</td>\n",
       "    </tr>\n",
       "    <tr>\n",
       "      <th>4</th>\n",
       "      <td>2017-01-06</td>\n",
       "      <td>3970.0</td>\n",
       "      <td>4010.0</td>\n",
       "      <td>3960.0</td>\n",
       "      <td>4000.0</td>\n",
       "      <td>3326.765381</td>\n",
       "      <td>44136900.0</td>\n",
       "    </tr>\n",
       "    <tr>\n",
       "      <th>...</th>\n",
       "      <td>...</td>\n",
       "      <td>...</td>\n",
       "      <td>...</td>\n",
       "      <td>...</td>\n",
       "      <td>...</td>\n",
       "      <td>...</td>\n",
       "      <td>...</td>\n",
       "    </tr>\n",
       "    <tr>\n",
       "      <th>1417</th>\n",
       "      <td>2022-08-26</td>\n",
       "      <td>4510.0</td>\n",
       "      <td>4540.0</td>\n",
       "      <td>4480.0</td>\n",
       "      <td>4490.0</td>\n",
       "      <td>4490.000000</td>\n",
       "      <td>184317100.0</td>\n",
       "    </tr>\n",
       "    <tr>\n",
       "      <th>1418</th>\n",
       "      <td>2022-08-29</td>\n",
       "      <td>4370.0</td>\n",
       "      <td>4550.0</td>\n",
       "      <td>4360.0</td>\n",
       "      <td>4520.0</td>\n",
       "      <td>4520.000000</td>\n",
       "      <td>101529800.0</td>\n",
       "    </tr>\n",
       "    <tr>\n",
       "      <th>1419</th>\n",
       "      <td>2022-08-30</td>\n",
       "      <td>4580.0</td>\n",
       "      <td>4620.0</td>\n",
       "      <td>4480.0</td>\n",
       "      <td>4480.0</td>\n",
       "      <td>4480.000000</td>\n",
       "      <td>118884300.0</td>\n",
       "    </tr>\n",
       "    <tr>\n",
       "      <th>1420</th>\n",
       "      <td>2022-08-31</td>\n",
       "      <td>4420.0</td>\n",
       "      <td>4600.0</td>\n",
       "      <td>4420.0</td>\n",
       "      <td>4560.0</td>\n",
       "      <td>4560.000000</td>\n",
       "      <td>175300400.0</td>\n",
       "    </tr>\n",
       "    <tr>\n",
       "      <th>1421</th>\n",
       "      <td>2022-09-01</td>\n",
       "      <td>4560.0</td>\n",
       "      <td>4650.0</td>\n",
       "      <td>4530.0</td>\n",
       "      <td>4580.0</td>\n",
       "      <td>4580.000000</td>\n",
       "      <td>120871700.0</td>\n",
       "    </tr>\n",
       "  </tbody>\n",
       "</table>\n",
       "<p>1422 rows × 7 columns</p>\n",
       "</div>"
      ],
      "text/plain": [
       "            Date    Open    High     Low   Close    Adj Close       Volume\n",
       "0     2017-01-02  3980.0  3980.0  3980.0  3980.0  3310.131592          0.0\n",
       "1     2017-01-03  3950.0  3990.0  3920.0  3950.0  3285.180664   71660600.0\n",
       "2     2017-01-04  3880.0  3980.0  3880.0  3950.0  3285.180664   68494500.0\n",
       "3     2017-01-05  3960.0  4030.0  3940.0  3950.0  3285.180664   74018400.0\n",
       "4     2017-01-06  3970.0  4010.0  3960.0  4000.0  3326.765381   44136900.0\n",
       "...          ...     ...     ...     ...     ...          ...          ...\n",
       "1417  2022-08-26  4510.0  4540.0  4480.0  4490.0  4490.000000  184317100.0\n",
       "1418  2022-08-29  4370.0  4550.0  4360.0  4520.0  4520.000000  101529800.0\n",
       "1419  2022-08-30  4580.0  4620.0  4480.0  4480.0  4480.000000  118884300.0\n",
       "1420  2022-08-31  4420.0  4600.0  4420.0  4560.0  4560.000000  175300400.0\n",
       "1421  2022-09-01  4560.0  4650.0  4530.0  4580.0  4580.000000  120871700.0\n",
       "\n",
       "[1422 rows x 7 columns]"
      ]
     },
     "execution_count": 89,
     "metadata": {},
     "output_type": "execute_result"
    }
   ],
   "source": [
    "mean = data[\"Open\"].mean()\n",
    "data[\"Open\"] = data[\"Open\"].replace(np.nan, mean) \n",
    "data "
   ]
  },
  {
   "cell_type": "markdown",
   "metadata": {},
   "source": [
    "Dari output diatas, mencari mean dari kolom \"Open\" menggunakan metode mean(). Kemudian mengganti nilai missing values tersebut di kolom \"Open\" dengan mean menggunakan metode replace()"
   ]
  },
  {
   "cell_type": "code",
   "execution_count": 90,
   "metadata": {},
   "outputs": [
    {
     "data": {
      "text/html": [
       "<div>\n",
       "<style scoped>\n",
       "    .dataframe tbody tr th:only-of-type {\n",
       "        vertical-align: middle;\n",
       "    }\n",
       "\n",
       "    .dataframe tbody tr th {\n",
       "        vertical-align: top;\n",
       "    }\n",
       "\n",
       "    .dataframe thead th {\n",
       "        text-align: right;\n",
       "    }\n",
       "</style>\n",
       "<table border=\"1\" class=\"dataframe\">\n",
       "  <thead>\n",
       "    <tr style=\"text-align: right;\">\n",
       "      <th></th>\n",
       "      <th>Date</th>\n",
       "      <th>Open</th>\n",
       "      <th>High</th>\n",
       "      <th>Low</th>\n",
       "      <th>Close</th>\n",
       "      <th>Adj Close</th>\n",
       "      <th>Volume</th>\n",
       "    </tr>\n",
       "  </thead>\n",
       "  <tbody>\n",
       "    <tr>\n",
       "      <th>0</th>\n",
       "      <td>2017-01-02</td>\n",
       "      <td>3980.0</td>\n",
       "      <td>3980.0</td>\n",
       "      <td>3980.0</td>\n",
       "      <td>3980.0</td>\n",
       "      <td>3310.131592</td>\n",
       "      <td>0.0</td>\n",
       "    </tr>\n",
       "    <tr>\n",
       "      <th>1</th>\n",
       "      <td>2017-01-03</td>\n",
       "      <td>3950.0</td>\n",
       "      <td>3990.0</td>\n",
       "      <td>3920.0</td>\n",
       "      <td>3950.0</td>\n",
       "      <td>3285.180664</td>\n",
       "      <td>71660600.0</td>\n",
       "    </tr>\n",
       "    <tr>\n",
       "      <th>2</th>\n",
       "      <td>2017-01-04</td>\n",
       "      <td>3880.0</td>\n",
       "      <td>3980.0</td>\n",
       "      <td>3880.0</td>\n",
       "      <td>3950.0</td>\n",
       "      <td>3285.180664</td>\n",
       "      <td>68494500.0</td>\n",
       "    </tr>\n",
       "    <tr>\n",
       "      <th>3</th>\n",
       "      <td>2017-01-05</td>\n",
       "      <td>3960.0</td>\n",
       "      <td>4030.0</td>\n",
       "      <td>3940.0</td>\n",
       "      <td>3950.0</td>\n",
       "      <td>3285.180664</td>\n",
       "      <td>74018400.0</td>\n",
       "    </tr>\n",
       "    <tr>\n",
       "      <th>4</th>\n",
       "      <td>2017-01-06</td>\n",
       "      <td>3970.0</td>\n",
       "      <td>4010.0</td>\n",
       "      <td>3960.0</td>\n",
       "      <td>4000.0</td>\n",
       "      <td>3326.765381</td>\n",
       "      <td>44136900.0</td>\n",
       "    </tr>\n",
       "    <tr>\n",
       "      <th>...</th>\n",
       "      <td>...</td>\n",
       "      <td>...</td>\n",
       "      <td>...</td>\n",
       "      <td>...</td>\n",
       "      <td>...</td>\n",
       "      <td>...</td>\n",
       "      <td>...</td>\n",
       "    </tr>\n",
       "    <tr>\n",
       "      <th>1417</th>\n",
       "      <td>2022-08-26</td>\n",
       "      <td>4510.0</td>\n",
       "      <td>4540.0</td>\n",
       "      <td>4480.0</td>\n",
       "      <td>4490.0</td>\n",
       "      <td>4490.000000</td>\n",
       "      <td>184317100.0</td>\n",
       "    </tr>\n",
       "    <tr>\n",
       "      <th>1418</th>\n",
       "      <td>2022-08-29</td>\n",
       "      <td>4370.0</td>\n",
       "      <td>4550.0</td>\n",
       "      <td>4360.0</td>\n",
       "      <td>4520.0</td>\n",
       "      <td>4520.000000</td>\n",
       "      <td>101529800.0</td>\n",
       "    </tr>\n",
       "    <tr>\n",
       "      <th>1419</th>\n",
       "      <td>2022-08-30</td>\n",
       "      <td>4580.0</td>\n",
       "      <td>4620.0</td>\n",
       "      <td>4480.0</td>\n",
       "      <td>4480.0</td>\n",
       "      <td>4480.000000</td>\n",
       "      <td>118884300.0</td>\n",
       "    </tr>\n",
       "    <tr>\n",
       "      <th>1420</th>\n",
       "      <td>2022-08-31</td>\n",
       "      <td>4420.0</td>\n",
       "      <td>4600.0</td>\n",
       "      <td>4420.0</td>\n",
       "      <td>4560.0</td>\n",
       "      <td>4560.000000</td>\n",
       "      <td>175300400.0</td>\n",
       "    </tr>\n",
       "    <tr>\n",
       "      <th>1421</th>\n",
       "      <td>2022-09-01</td>\n",
       "      <td>4560.0</td>\n",
       "      <td>4650.0</td>\n",
       "      <td>4530.0</td>\n",
       "      <td>4580.0</td>\n",
       "      <td>4580.000000</td>\n",
       "      <td>120871700.0</td>\n",
       "    </tr>\n",
       "  </tbody>\n",
       "</table>\n",
       "<p>1422 rows × 7 columns</p>\n",
       "</div>"
      ],
      "text/plain": [
       "            Date    Open    High     Low   Close    Adj Close       Volume\n",
       "0     2017-01-02  3980.0  3980.0  3980.0  3980.0  3310.131592          0.0\n",
       "1     2017-01-03  3950.0  3990.0  3920.0  3950.0  3285.180664   71660600.0\n",
       "2     2017-01-04  3880.0  3980.0  3880.0  3950.0  3285.180664   68494500.0\n",
       "3     2017-01-05  3960.0  4030.0  3940.0  3950.0  3285.180664   74018400.0\n",
       "4     2017-01-06  3970.0  4010.0  3960.0  4000.0  3326.765381   44136900.0\n",
       "...          ...     ...     ...     ...     ...          ...          ...\n",
       "1417  2022-08-26  4510.0  4540.0  4480.0  4490.0  4490.000000  184317100.0\n",
       "1418  2022-08-29  4370.0  4550.0  4360.0  4520.0  4520.000000  101529800.0\n",
       "1419  2022-08-30  4580.0  4620.0  4480.0  4480.0  4480.000000  118884300.0\n",
       "1420  2022-08-31  4420.0  4600.0  4420.0  4560.0  4560.000000  175300400.0\n",
       "1421  2022-09-01  4560.0  4650.0  4530.0  4580.0  4580.000000  120871700.0\n",
       "\n",
       "[1422 rows x 7 columns]"
      ]
     },
     "execution_count": 90,
     "metadata": {},
     "output_type": "execute_result"
    }
   ],
   "source": [
    "mean = data[\"High\"].mean()\n",
    "data[\"High\"] = data[\"High\"].replace(np.nan, mean) \n",
    "data "
   ]
  },
  {
   "cell_type": "markdown",
   "metadata": {},
   "source": [
    "Dari output diatas, mencari mean dari kolom \"High\" menggunakan metode mean(). Kemudian mengganti nilai missing values tersebut di kolom \"High\" dengan mean menggunakan metode replace()"
   ]
  },
  {
   "cell_type": "code",
   "execution_count": 91,
   "metadata": {},
   "outputs": [
    {
     "data": {
      "text/html": [
       "<div>\n",
       "<style scoped>\n",
       "    .dataframe tbody tr th:only-of-type {\n",
       "        vertical-align: middle;\n",
       "    }\n",
       "\n",
       "    .dataframe tbody tr th {\n",
       "        vertical-align: top;\n",
       "    }\n",
       "\n",
       "    .dataframe thead th {\n",
       "        text-align: right;\n",
       "    }\n",
       "</style>\n",
       "<table border=\"1\" class=\"dataframe\">\n",
       "  <thead>\n",
       "    <tr style=\"text-align: right;\">\n",
       "      <th></th>\n",
       "      <th>Date</th>\n",
       "      <th>Open</th>\n",
       "      <th>High</th>\n",
       "      <th>Low</th>\n",
       "      <th>Close</th>\n",
       "      <th>Adj Close</th>\n",
       "      <th>Volume</th>\n",
       "    </tr>\n",
       "  </thead>\n",
       "  <tbody>\n",
       "    <tr>\n",
       "      <th>0</th>\n",
       "      <td>2017-01-02</td>\n",
       "      <td>3980.0</td>\n",
       "      <td>3980.0</td>\n",
       "      <td>3980.0</td>\n",
       "      <td>3980.0</td>\n",
       "      <td>3310.131592</td>\n",
       "      <td>0.0</td>\n",
       "    </tr>\n",
       "    <tr>\n",
       "      <th>1</th>\n",
       "      <td>2017-01-03</td>\n",
       "      <td>3950.0</td>\n",
       "      <td>3990.0</td>\n",
       "      <td>3920.0</td>\n",
       "      <td>3950.0</td>\n",
       "      <td>3285.180664</td>\n",
       "      <td>71660600.0</td>\n",
       "    </tr>\n",
       "    <tr>\n",
       "      <th>2</th>\n",
       "      <td>2017-01-04</td>\n",
       "      <td>3880.0</td>\n",
       "      <td>3980.0</td>\n",
       "      <td>3880.0</td>\n",
       "      <td>3950.0</td>\n",
       "      <td>3285.180664</td>\n",
       "      <td>68494500.0</td>\n",
       "    </tr>\n",
       "    <tr>\n",
       "      <th>3</th>\n",
       "      <td>2017-01-05</td>\n",
       "      <td>3960.0</td>\n",
       "      <td>4030.0</td>\n",
       "      <td>3940.0</td>\n",
       "      <td>3950.0</td>\n",
       "      <td>3285.180664</td>\n",
       "      <td>74018400.0</td>\n",
       "    </tr>\n",
       "    <tr>\n",
       "      <th>4</th>\n",
       "      <td>2017-01-06</td>\n",
       "      <td>3970.0</td>\n",
       "      <td>4010.0</td>\n",
       "      <td>3960.0</td>\n",
       "      <td>4000.0</td>\n",
       "      <td>3326.765381</td>\n",
       "      <td>44136900.0</td>\n",
       "    </tr>\n",
       "    <tr>\n",
       "      <th>...</th>\n",
       "      <td>...</td>\n",
       "      <td>...</td>\n",
       "      <td>...</td>\n",
       "      <td>...</td>\n",
       "      <td>...</td>\n",
       "      <td>...</td>\n",
       "      <td>...</td>\n",
       "    </tr>\n",
       "    <tr>\n",
       "      <th>1417</th>\n",
       "      <td>2022-08-26</td>\n",
       "      <td>4510.0</td>\n",
       "      <td>4540.0</td>\n",
       "      <td>4480.0</td>\n",
       "      <td>4490.0</td>\n",
       "      <td>4490.000000</td>\n",
       "      <td>184317100.0</td>\n",
       "    </tr>\n",
       "    <tr>\n",
       "      <th>1418</th>\n",
       "      <td>2022-08-29</td>\n",
       "      <td>4370.0</td>\n",
       "      <td>4550.0</td>\n",
       "      <td>4360.0</td>\n",
       "      <td>4520.0</td>\n",
       "      <td>4520.000000</td>\n",
       "      <td>101529800.0</td>\n",
       "    </tr>\n",
       "    <tr>\n",
       "      <th>1419</th>\n",
       "      <td>2022-08-30</td>\n",
       "      <td>4580.0</td>\n",
       "      <td>4620.0</td>\n",
       "      <td>4480.0</td>\n",
       "      <td>4480.0</td>\n",
       "      <td>4480.000000</td>\n",
       "      <td>118884300.0</td>\n",
       "    </tr>\n",
       "    <tr>\n",
       "      <th>1420</th>\n",
       "      <td>2022-08-31</td>\n",
       "      <td>4420.0</td>\n",
       "      <td>4600.0</td>\n",
       "      <td>4420.0</td>\n",
       "      <td>4560.0</td>\n",
       "      <td>4560.000000</td>\n",
       "      <td>175300400.0</td>\n",
       "    </tr>\n",
       "    <tr>\n",
       "      <th>1421</th>\n",
       "      <td>2022-09-01</td>\n",
       "      <td>4560.0</td>\n",
       "      <td>4650.0</td>\n",
       "      <td>4530.0</td>\n",
       "      <td>4580.0</td>\n",
       "      <td>4580.000000</td>\n",
       "      <td>120871700.0</td>\n",
       "    </tr>\n",
       "  </tbody>\n",
       "</table>\n",
       "<p>1422 rows × 7 columns</p>\n",
       "</div>"
      ],
      "text/plain": [
       "            Date    Open    High     Low   Close    Adj Close       Volume\n",
       "0     2017-01-02  3980.0  3980.0  3980.0  3980.0  3310.131592          0.0\n",
       "1     2017-01-03  3950.0  3990.0  3920.0  3950.0  3285.180664   71660600.0\n",
       "2     2017-01-04  3880.0  3980.0  3880.0  3950.0  3285.180664   68494500.0\n",
       "3     2017-01-05  3960.0  4030.0  3940.0  3950.0  3285.180664   74018400.0\n",
       "4     2017-01-06  3970.0  4010.0  3960.0  4000.0  3326.765381   44136900.0\n",
       "...          ...     ...     ...     ...     ...          ...          ...\n",
       "1417  2022-08-26  4510.0  4540.0  4480.0  4490.0  4490.000000  184317100.0\n",
       "1418  2022-08-29  4370.0  4550.0  4360.0  4520.0  4520.000000  101529800.0\n",
       "1419  2022-08-30  4580.0  4620.0  4480.0  4480.0  4480.000000  118884300.0\n",
       "1420  2022-08-31  4420.0  4600.0  4420.0  4560.0  4560.000000  175300400.0\n",
       "1421  2022-09-01  4560.0  4650.0  4530.0  4580.0  4580.000000  120871700.0\n",
       "\n",
       "[1422 rows x 7 columns]"
      ]
     },
     "execution_count": 91,
     "metadata": {},
     "output_type": "execute_result"
    }
   ],
   "source": [
    "mean = data[\"Low\"].mean()\n",
    "data[\"Low\"] = data[\"Low\"].replace(np.nan, mean) \n",
    "data "
   ]
  },
  {
   "cell_type": "markdown",
   "metadata": {},
   "source": [
    "Dari output diatas, mencari mean dari kolom \"Low\" menggunakan metode mean(). Kemudian mengganti nilai missing values tersebut di kolom \"Low\" dengan mean menggunakan metode replace()"
   ]
  },
  {
   "cell_type": "code",
   "execution_count": 92,
   "metadata": {},
   "outputs": [
    {
     "data": {
      "text/html": [
       "<div>\n",
       "<style scoped>\n",
       "    .dataframe tbody tr th:only-of-type {\n",
       "        vertical-align: middle;\n",
       "    }\n",
       "\n",
       "    .dataframe tbody tr th {\n",
       "        vertical-align: top;\n",
       "    }\n",
       "\n",
       "    .dataframe thead th {\n",
       "        text-align: right;\n",
       "    }\n",
       "</style>\n",
       "<table border=\"1\" class=\"dataframe\">\n",
       "  <thead>\n",
       "    <tr style=\"text-align: right;\">\n",
       "      <th></th>\n",
       "      <th>Date</th>\n",
       "      <th>Open</th>\n",
       "      <th>High</th>\n",
       "      <th>Low</th>\n",
       "      <th>Close</th>\n",
       "      <th>Adj Close</th>\n",
       "      <th>Volume</th>\n",
       "    </tr>\n",
       "  </thead>\n",
       "  <tbody>\n",
       "    <tr>\n",
       "      <th>0</th>\n",
       "      <td>2017-01-02</td>\n",
       "      <td>3980.0</td>\n",
       "      <td>3980.0</td>\n",
       "      <td>3980.0</td>\n",
       "      <td>3980.0</td>\n",
       "      <td>3310.131592</td>\n",
       "      <td>0.0</td>\n",
       "    </tr>\n",
       "    <tr>\n",
       "      <th>1</th>\n",
       "      <td>2017-01-03</td>\n",
       "      <td>3950.0</td>\n",
       "      <td>3990.0</td>\n",
       "      <td>3920.0</td>\n",
       "      <td>3950.0</td>\n",
       "      <td>3285.180664</td>\n",
       "      <td>71660600.0</td>\n",
       "    </tr>\n",
       "    <tr>\n",
       "      <th>2</th>\n",
       "      <td>2017-01-04</td>\n",
       "      <td>3880.0</td>\n",
       "      <td>3980.0</td>\n",
       "      <td>3880.0</td>\n",
       "      <td>3950.0</td>\n",
       "      <td>3285.180664</td>\n",
       "      <td>68494500.0</td>\n",
       "    </tr>\n",
       "    <tr>\n",
       "      <th>3</th>\n",
       "      <td>2017-01-05</td>\n",
       "      <td>3960.0</td>\n",
       "      <td>4030.0</td>\n",
       "      <td>3940.0</td>\n",
       "      <td>3950.0</td>\n",
       "      <td>3285.180664</td>\n",
       "      <td>74018400.0</td>\n",
       "    </tr>\n",
       "    <tr>\n",
       "      <th>4</th>\n",
       "      <td>2017-01-06</td>\n",
       "      <td>3970.0</td>\n",
       "      <td>4010.0</td>\n",
       "      <td>3960.0</td>\n",
       "      <td>4000.0</td>\n",
       "      <td>3326.765381</td>\n",
       "      <td>44136900.0</td>\n",
       "    </tr>\n",
       "    <tr>\n",
       "      <th>...</th>\n",
       "      <td>...</td>\n",
       "      <td>...</td>\n",
       "      <td>...</td>\n",
       "      <td>...</td>\n",
       "      <td>...</td>\n",
       "      <td>...</td>\n",
       "      <td>...</td>\n",
       "    </tr>\n",
       "    <tr>\n",
       "      <th>1417</th>\n",
       "      <td>2022-08-26</td>\n",
       "      <td>4510.0</td>\n",
       "      <td>4540.0</td>\n",
       "      <td>4480.0</td>\n",
       "      <td>4490.0</td>\n",
       "      <td>4490.000000</td>\n",
       "      <td>184317100.0</td>\n",
       "    </tr>\n",
       "    <tr>\n",
       "      <th>1418</th>\n",
       "      <td>2022-08-29</td>\n",
       "      <td>4370.0</td>\n",
       "      <td>4550.0</td>\n",
       "      <td>4360.0</td>\n",
       "      <td>4520.0</td>\n",
       "      <td>4520.000000</td>\n",
       "      <td>101529800.0</td>\n",
       "    </tr>\n",
       "    <tr>\n",
       "      <th>1419</th>\n",
       "      <td>2022-08-30</td>\n",
       "      <td>4580.0</td>\n",
       "      <td>4620.0</td>\n",
       "      <td>4480.0</td>\n",
       "      <td>4480.0</td>\n",
       "      <td>4480.000000</td>\n",
       "      <td>118884300.0</td>\n",
       "    </tr>\n",
       "    <tr>\n",
       "      <th>1420</th>\n",
       "      <td>2022-08-31</td>\n",
       "      <td>4420.0</td>\n",
       "      <td>4600.0</td>\n",
       "      <td>4420.0</td>\n",
       "      <td>4560.0</td>\n",
       "      <td>4560.000000</td>\n",
       "      <td>175300400.0</td>\n",
       "    </tr>\n",
       "    <tr>\n",
       "      <th>1421</th>\n",
       "      <td>2022-09-01</td>\n",
       "      <td>4560.0</td>\n",
       "      <td>4650.0</td>\n",
       "      <td>4530.0</td>\n",
       "      <td>4580.0</td>\n",
       "      <td>4580.000000</td>\n",
       "      <td>120871700.0</td>\n",
       "    </tr>\n",
       "  </tbody>\n",
       "</table>\n",
       "<p>1422 rows × 7 columns</p>\n",
       "</div>"
      ],
      "text/plain": [
       "            Date    Open    High     Low   Close    Adj Close       Volume\n",
       "0     2017-01-02  3980.0  3980.0  3980.0  3980.0  3310.131592          0.0\n",
       "1     2017-01-03  3950.0  3990.0  3920.0  3950.0  3285.180664   71660600.0\n",
       "2     2017-01-04  3880.0  3980.0  3880.0  3950.0  3285.180664   68494500.0\n",
       "3     2017-01-05  3960.0  4030.0  3940.0  3950.0  3285.180664   74018400.0\n",
       "4     2017-01-06  3970.0  4010.0  3960.0  4000.0  3326.765381   44136900.0\n",
       "...          ...     ...     ...     ...     ...          ...          ...\n",
       "1417  2022-08-26  4510.0  4540.0  4480.0  4490.0  4490.000000  184317100.0\n",
       "1418  2022-08-29  4370.0  4550.0  4360.0  4520.0  4520.000000  101529800.0\n",
       "1419  2022-08-30  4580.0  4620.0  4480.0  4480.0  4480.000000  118884300.0\n",
       "1420  2022-08-31  4420.0  4600.0  4420.0  4560.0  4560.000000  175300400.0\n",
       "1421  2022-09-01  4560.0  4650.0  4530.0  4580.0  4580.000000  120871700.0\n",
       "\n",
       "[1422 rows x 7 columns]"
      ]
     },
     "execution_count": 92,
     "metadata": {},
     "output_type": "execute_result"
    }
   ],
   "source": [
    "mean = data[\"Close\"].mean()\n",
    "data[\"Close\"] = data[\"Close\"].replace(np.nan, mean) \n",
    "data "
   ]
  },
  {
   "cell_type": "markdown",
   "metadata": {},
   "source": [
    "Dari output diatas, mencari mean dari kolom \"Close\" menggunakan metode mean(). Kemudian mengganti nilai missing values tersebut di kolom \"Close\" dengan mean menggunakan metode replace()"
   ]
  },
  {
   "cell_type": "code",
   "execution_count": 93,
   "metadata": {},
   "outputs": [
    {
     "data": {
      "text/html": [
       "<div>\n",
       "<style scoped>\n",
       "    .dataframe tbody tr th:only-of-type {\n",
       "        vertical-align: middle;\n",
       "    }\n",
       "\n",
       "    .dataframe tbody tr th {\n",
       "        vertical-align: top;\n",
       "    }\n",
       "\n",
       "    .dataframe thead th {\n",
       "        text-align: right;\n",
       "    }\n",
       "</style>\n",
       "<table border=\"1\" class=\"dataframe\">\n",
       "  <thead>\n",
       "    <tr style=\"text-align: right;\">\n",
       "      <th></th>\n",
       "      <th>Date</th>\n",
       "      <th>Open</th>\n",
       "      <th>High</th>\n",
       "      <th>Low</th>\n",
       "      <th>Close</th>\n",
       "      <th>Adj Close</th>\n",
       "      <th>Volume</th>\n",
       "    </tr>\n",
       "  </thead>\n",
       "  <tbody>\n",
       "    <tr>\n",
       "      <th>0</th>\n",
       "      <td>2017-01-02</td>\n",
       "      <td>3980.0</td>\n",
       "      <td>3980.0</td>\n",
       "      <td>3980.0</td>\n",
       "      <td>3980.0</td>\n",
       "      <td>3310.131592</td>\n",
       "      <td>0.0</td>\n",
       "    </tr>\n",
       "    <tr>\n",
       "      <th>1</th>\n",
       "      <td>2017-01-03</td>\n",
       "      <td>3950.0</td>\n",
       "      <td>3990.0</td>\n",
       "      <td>3920.0</td>\n",
       "      <td>3950.0</td>\n",
       "      <td>3285.180664</td>\n",
       "      <td>71660600.0</td>\n",
       "    </tr>\n",
       "    <tr>\n",
       "      <th>2</th>\n",
       "      <td>2017-01-04</td>\n",
       "      <td>3880.0</td>\n",
       "      <td>3980.0</td>\n",
       "      <td>3880.0</td>\n",
       "      <td>3950.0</td>\n",
       "      <td>3285.180664</td>\n",
       "      <td>68494500.0</td>\n",
       "    </tr>\n",
       "    <tr>\n",
       "      <th>3</th>\n",
       "      <td>2017-01-05</td>\n",
       "      <td>3960.0</td>\n",
       "      <td>4030.0</td>\n",
       "      <td>3940.0</td>\n",
       "      <td>3950.0</td>\n",
       "      <td>3285.180664</td>\n",
       "      <td>74018400.0</td>\n",
       "    </tr>\n",
       "    <tr>\n",
       "      <th>4</th>\n",
       "      <td>2017-01-06</td>\n",
       "      <td>3970.0</td>\n",
       "      <td>4010.0</td>\n",
       "      <td>3960.0</td>\n",
       "      <td>4000.0</td>\n",
       "      <td>3326.765381</td>\n",
       "      <td>44136900.0</td>\n",
       "    </tr>\n",
       "    <tr>\n",
       "      <th>...</th>\n",
       "      <td>...</td>\n",
       "      <td>...</td>\n",
       "      <td>...</td>\n",
       "      <td>...</td>\n",
       "      <td>...</td>\n",
       "      <td>...</td>\n",
       "      <td>...</td>\n",
       "    </tr>\n",
       "    <tr>\n",
       "      <th>1417</th>\n",
       "      <td>2022-08-26</td>\n",
       "      <td>4510.0</td>\n",
       "      <td>4540.0</td>\n",
       "      <td>4480.0</td>\n",
       "      <td>4490.0</td>\n",
       "      <td>4490.000000</td>\n",
       "      <td>184317100.0</td>\n",
       "    </tr>\n",
       "    <tr>\n",
       "      <th>1418</th>\n",
       "      <td>2022-08-29</td>\n",
       "      <td>4370.0</td>\n",
       "      <td>4550.0</td>\n",
       "      <td>4360.0</td>\n",
       "      <td>4520.0</td>\n",
       "      <td>4520.000000</td>\n",
       "      <td>101529800.0</td>\n",
       "    </tr>\n",
       "    <tr>\n",
       "      <th>1419</th>\n",
       "      <td>2022-08-30</td>\n",
       "      <td>4580.0</td>\n",
       "      <td>4620.0</td>\n",
       "      <td>4480.0</td>\n",
       "      <td>4480.0</td>\n",
       "      <td>4480.000000</td>\n",
       "      <td>118884300.0</td>\n",
       "    </tr>\n",
       "    <tr>\n",
       "      <th>1420</th>\n",
       "      <td>2022-08-31</td>\n",
       "      <td>4420.0</td>\n",
       "      <td>4600.0</td>\n",
       "      <td>4420.0</td>\n",
       "      <td>4560.0</td>\n",
       "      <td>4560.000000</td>\n",
       "      <td>175300400.0</td>\n",
       "    </tr>\n",
       "    <tr>\n",
       "      <th>1421</th>\n",
       "      <td>2022-09-01</td>\n",
       "      <td>4560.0</td>\n",
       "      <td>4650.0</td>\n",
       "      <td>4530.0</td>\n",
       "      <td>4580.0</td>\n",
       "      <td>4580.000000</td>\n",
       "      <td>120871700.0</td>\n",
       "    </tr>\n",
       "  </tbody>\n",
       "</table>\n",
       "<p>1422 rows × 7 columns</p>\n",
       "</div>"
      ],
      "text/plain": [
       "            Date    Open    High     Low   Close    Adj Close       Volume\n",
       "0     2017-01-02  3980.0  3980.0  3980.0  3980.0  3310.131592          0.0\n",
       "1     2017-01-03  3950.0  3990.0  3920.0  3950.0  3285.180664   71660600.0\n",
       "2     2017-01-04  3880.0  3980.0  3880.0  3950.0  3285.180664   68494500.0\n",
       "3     2017-01-05  3960.0  4030.0  3940.0  3950.0  3285.180664   74018400.0\n",
       "4     2017-01-06  3970.0  4010.0  3960.0  4000.0  3326.765381   44136900.0\n",
       "...          ...     ...     ...     ...     ...          ...          ...\n",
       "1417  2022-08-26  4510.0  4540.0  4480.0  4490.0  4490.000000  184317100.0\n",
       "1418  2022-08-29  4370.0  4550.0  4360.0  4520.0  4520.000000  101529800.0\n",
       "1419  2022-08-30  4580.0  4620.0  4480.0  4480.0  4480.000000  118884300.0\n",
       "1420  2022-08-31  4420.0  4600.0  4420.0  4560.0  4560.000000  175300400.0\n",
       "1421  2022-09-01  4560.0  4650.0  4530.0  4580.0  4580.000000  120871700.0\n",
       "\n",
       "[1422 rows x 7 columns]"
      ]
     },
     "execution_count": 93,
     "metadata": {},
     "output_type": "execute_result"
    }
   ],
   "source": [
    "mean = data[\"Adj Close\"].mean()\n",
    "data[\"Adj Close\"] = data[\"Adj Close\"].replace(np.nan, mean) \n",
    "data "
   ]
  },
  {
   "cell_type": "markdown",
   "metadata": {},
   "source": [
    "Dari output diatas, mencari mean dari kolom \"Adj Close\" menggunakan metode mean(). Kemudian mengganti nilai missing values tersebut di kolom \"Adj Close\" dengan mean menggunakan metode replace()"
   ]
  },
  {
   "cell_type": "code",
   "execution_count": 94,
   "metadata": {},
   "outputs": [
    {
     "data": {
      "text/html": [
       "<div>\n",
       "<style scoped>\n",
       "    .dataframe tbody tr th:only-of-type {\n",
       "        vertical-align: middle;\n",
       "    }\n",
       "\n",
       "    .dataframe tbody tr th {\n",
       "        vertical-align: top;\n",
       "    }\n",
       "\n",
       "    .dataframe thead th {\n",
       "        text-align: right;\n",
       "    }\n",
       "</style>\n",
       "<table border=\"1\" class=\"dataframe\">\n",
       "  <thead>\n",
       "    <tr style=\"text-align: right;\">\n",
       "      <th></th>\n",
       "      <th>Date</th>\n",
       "      <th>Open</th>\n",
       "      <th>High</th>\n",
       "      <th>Low</th>\n",
       "      <th>Close</th>\n",
       "      <th>Adj Close</th>\n",
       "      <th>Volume</th>\n",
       "    </tr>\n",
       "  </thead>\n",
       "  <tbody>\n",
       "    <tr>\n",
       "      <th>0</th>\n",
       "      <td>2017-01-02</td>\n",
       "      <td>3980.0</td>\n",
       "      <td>3980.0</td>\n",
       "      <td>3980.0</td>\n",
       "      <td>3980.0</td>\n",
       "      <td>3310.131592</td>\n",
       "      <td>0.0</td>\n",
       "    </tr>\n",
       "    <tr>\n",
       "      <th>1</th>\n",
       "      <td>2017-01-03</td>\n",
       "      <td>3950.0</td>\n",
       "      <td>3990.0</td>\n",
       "      <td>3920.0</td>\n",
       "      <td>3950.0</td>\n",
       "      <td>3285.180664</td>\n",
       "      <td>71660600.0</td>\n",
       "    </tr>\n",
       "    <tr>\n",
       "      <th>2</th>\n",
       "      <td>2017-01-04</td>\n",
       "      <td>3880.0</td>\n",
       "      <td>3980.0</td>\n",
       "      <td>3880.0</td>\n",
       "      <td>3950.0</td>\n",
       "      <td>3285.180664</td>\n",
       "      <td>68494500.0</td>\n",
       "    </tr>\n",
       "    <tr>\n",
       "      <th>3</th>\n",
       "      <td>2017-01-05</td>\n",
       "      <td>3960.0</td>\n",
       "      <td>4030.0</td>\n",
       "      <td>3940.0</td>\n",
       "      <td>3950.0</td>\n",
       "      <td>3285.180664</td>\n",
       "      <td>74018400.0</td>\n",
       "    </tr>\n",
       "    <tr>\n",
       "      <th>4</th>\n",
       "      <td>2017-01-06</td>\n",
       "      <td>3970.0</td>\n",
       "      <td>4010.0</td>\n",
       "      <td>3960.0</td>\n",
       "      <td>4000.0</td>\n",
       "      <td>3326.765381</td>\n",
       "      <td>44136900.0</td>\n",
       "    </tr>\n",
       "    <tr>\n",
       "      <th>...</th>\n",
       "      <td>...</td>\n",
       "      <td>...</td>\n",
       "      <td>...</td>\n",
       "      <td>...</td>\n",
       "      <td>...</td>\n",
       "      <td>...</td>\n",
       "      <td>...</td>\n",
       "    </tr>\n",
       "    <tr>\n",
       "      <th>1417</th>\n",
       "      <td>2022-08-26</td>\n",
       "      <td>4510.0</td>\n",
       "      <td>4540.0</td>\n",
       "      <td>4480.0</td>\n",
       "      <td>4490.0</td>\n",
       "      <td>4490.000000</td>\n",
       "      <td>184317100.0</td>\n",
       "    </tr>\n",
       "    <tr>\n",
       "      <th>1418</th>\n",
       "      <td>2022-08-29</td>\n",
       "      <td>4370.0</td>\n",
       "      <td>4550.0</td>\n",
       "      <td>4360.0</td>\n",
       "      <td>4520.0</td>\n",
       "      <td>4520.000000</td>\n",
       "      <td>101529800.0</td>\n",
       "    </tr>\n",
       "    <tr>\n",
       "      <th>1419</th>\n",
       "      <td>2022-08-30</td>\n",
       "      <td>4580.0</td>\n",
       "      <td>4620.0</td>\n",
       "      <td>4480.0</td>\n",
       "      <td>4480.0</td>\n",
       "      <td>4480.000000</td>\n",
       "      <td>118884300.0</td>\n",
       "    </tr>\n",
       "    <tr>\n",
       "      <th>1420</th>\n",
       "      <td>2022-08-31</td>\n",
       "      <td>4420.0</td>\n",
       "      <td>4600.0</td>\n",
       "      <td>4420.0</td>\n",
       "      <td>4560.0</td>\n",
       "      <td>4560.000000</td>\n",
       "      <td>175300400.0</td>\n",
       "    </tr>\n",
       "    <tr>\n",
       "      <th>1421</th>\n",
       "      <td>2022-09-01</td>\n",
       "      <td>4560.0</td>\n",
       "      <td>4650.0</td>\n",
       "      <td>4530.0</td>\n",
       "      <td>4580.0</td>\n",
       "      <td>4580.000000</td>\n",
       "      <td>120871700.0</td>\n",
       "    </tr>\n",
       "  </tbody>\n",
       "</table>\n",
       "<p>1422 rows × 7 columns</p>\n",
       "</div>"
      ],
      "text/plain": [
       "            Date    Open    High     Low   Close    Adj Close       Volume\n",
       "0     2017-01-02  3980.0  3980.0  3980.0  3980.0  3310.131592          0.0\n",
       "1     2017-01-03  3950.0  3990.0  3920.0  3950.0  3285.180664   71660600.0\n",
       "2     2017-01-04  3880.0  3980.0  3880.0  3950.0  3285.180664   68494500.0\n",
       "3     2017-01-05  3960.0  4030.0  3940.0  3950.0  3285.180664   74018400.0\n",
       "4     2017-01-06  3970.0  4010.0  3960.0  4000.0  3326.765381   44136900.0\n",
       "...          ...     ...     ...     ...     ...          ...          ...\n",
       "1417  2022-08-26  4510.0  4540.0  4480.0  4490.0  4490.000000  184317100.0\n",
       "1418  2022-08-29  4370.0  4550.0  4360.0  4520.0  4520.000000  101529800.0\n",
       "1419  2022-08-30  4580.0  4620.0  4480.0  4480.0  4480.000000  118884300.0\n",
       "1420  2022-08-31  4420.0  4600.0  4420.0  4560.0  4560.000000  175300400.0\n",
       "1421  2022-09-01  4560.0  4650.0  4530.0  4580.0  4580.000000  120871700.0\n",
       "\n",
       "[1422 rows x 7 columns]"
      ]
     },
     "execution_count": 94,
     "metadata": {},
     "output_type": "execute_result"
    }
   ],
   "source": [
    "mean = data[\"Volume\"].mean()\n",
    "data[\"Volume\"] = data[\"Volume\"].replace(np.nan, mean) \n",
    "data "
   ]
  },
  {
   "cell_type": "markdown",
   "metadata": {},
   "source": [
    "Dari output diatas, mencari mean dari kolom \"Volume\" menggunakan metode mean(). Kemudian mengganti nilai missing values tersebut di kolom \"Volume\" dengan mean menggunakan metode replace()"
   ]
  },
  {
   "cell_type": "code",
   "execution_count": 95,
   "metadata": {},
   "outputs": [
    {
     "data": {
      "text/plain": [
       "Date         0\n",
       "Open         0\n",
       "High         0\n",
       "Low          0\n",
       "Close        0\n",
       "Adj Close    0\n",
       "Volume       0\n",
       "dtype: int64"
      ]
     },
     "execution_count": 95,
     "metadata": {},
     "output_type": "execute_result"
    }
   ],
   "source": [
    "# Setelah melakukan tahapan diatas, selanjutnya adalah memeriksa kembali apakah masih terdapat missing values pada data\n",
    "data.isnull().sum() "
   ]
  },
  {
   "cell_type": "markdown",
   "metadata": {},
   "source": [
    "Dari output diatas menampilkan bahwa tidak terdapat missing values dalam dataset sehingga dapat diartikan data tersebut sudah aman. Selanjutnya adalah melakukan Eksplorasi Data.\n",
    "\n",
    "\n"
   ]
  },
  {
   "cell_type": "markdown",
   "metadata": {},
   "source": [
    "# 4. Eksplorasi Data"
   ]
  },
  {
   "cell_type": "code",
   "execution_count": 96,
   "metadata": {},
   "outputs": [
    {
     "data": {
      "text/plain": [
       "pandas.core.frame.DataFrame"
      ]
     },
     "execution_count": 96,
     "metadata": {},
     "output_type": "execute_result"
    }
   ],
   "source": [
    "# Melihat tipe data pada dataframe\n",
    "type(data) "
   ]
  },
  {
   "cell_type": "code",
   "execution_count": 97,
   "metadata": {},
   "outputs": [
    {
     "data": {
      "text/plain": [
       "Date         0.0\n",
       "Open         0.0\n",
       "High         0.0\n",
       "Low          0.0\n",
       "Close        0.0\n",
       "Adj Close    0.0\n",
       "Volume       0.0\n",
       "dtype: float64"
      ]
     },
     "execution_count": 97,
     "metadata": {},
     "output_type": "execute_result"
    }
   ],
   "source": [
    "data.isnull().sum()/len(data) "
   ]
  },
  {
   "cell_type": "code",
   "execution_count": 98,
   "metadata": {},
   "outputs": [
    {
     "data": {
      "text/plain": [
       "DatetimeIndex(['2017-01-02', '2017-01-03', '2017-01-04', '2017-01-05',\n",
       "               '2017-01-06', '2017-01-09', '2017-01-10', '2017-01-11',\n",
       "               '2017-01-12', '2017-01-13',\n",
       "               ...\n",
       "               '2022-08-19', '2022-08-22', '2022-08-23', '2022-08-24',\n",
       "               '2022-08-25', '2022-08-26', '2022-08-29', '2022-08-30',\n",
       "               '2022-08-31', '2022-09-01'],\n",
       "              dtype='datetime64[ns]', name='Date', length=1422, freq=None)"
      ]
     },
     "execution_count": 98,
     "metadata": {},
     "output_type": "execute_result"
    }
   ],
   "source": [
    "# Mengubah tanggal menjadi index\n",
    "con = data['Date']\n",
    "data['Date']=pd.to_datetime(data['Date'])\n",
    "data.set_index('Date', inplace=True)\n",
    "\n",
    "# Memeriksa datatype pada index\n",
    "data.index"
   ]
  },
  {
   "cell_type": "code",
   "execution_count": 99,
   "metadata": {},
   "outputs": [
    {
     "data": {
      "text/html": [
       "<div>\n",
       "<style scoped>\n",
       "    .dataframe tbody tr th:only-of-type {\n",
       "        vertical-align: middle;\n",
       "    }\n",
       "\n",
       "    .dataframe tbody tr th {\n",
       "        vertical-align: top;\n",
       "    }\n",
       "\n",
       "    .dataframe thead th {\n",
       "        text-align: right;\n",
       "    }\n",
       "</style>\n",
       "<table border=\"1\" class=\"dataframe\">\n",
       "  <thead>\n",
       "    <tr style=\"text-align: right;\">\n",
       "      <th></th>\n",
       "      <th>Open</th>\n",
       "      <th>High</th>\n",
       "      <th>Low</th>\n",
       "      <th>Close</th>\n",
       "      <th>Adj Close</th>\n",
       "      <th>Volume</th>\n",
       "    </tr>\n",
       "    <tr>\n",
       "      <th>Date</th>\n",
       "      <th></th>\n",
       "      <th></th>\n",
       "      <th></th>\n",
       "      <th></th>\n",
       "      <th></th>\n",
       "      <th></th>\n",
       "    </tr>\n",
       "  </thead>\n",
       "  <tbody>\n",
       "    <tr>\n",
       "      <th>2017-01-02</th>\n",
       "      <td>3980.0</td>\n",
       "      <td>3980.0</td>\n",
       "      <td>3980.0</td>\n",
       "      <td>3980.0</td>\n",
       "      <td>3310.131592</td>\n",
       "      <td>0.0</td>\n",
       "    </tr>\n",
       "    <tr>\n",
       "      <th>2017-01-03</th>\n",
       "      <td>3950.0</td>\n",
       "      <td>3990.0</td>\n",
       "      <td>3920.0</td>\n",
       "      <td>3950.0</td>\n",
       "      <td>3285.180664</td>\n",
       "      <td>71660600.0</td>\n",
       "    </tr>\n",
       "    <tr>\n",
       "      <th>2017-01-04</th>\n",
       "      <td>3880.0</td>\n",
       "      <td>3980.0</td>\n",
       "      <td>3880.0</td>\n",
       "      <td>3950.0</td>\n",
       "      <td>3285.180664</td>\n",
       "      <td>68494500.0</td>\n",
       "    </tr>\n",
       "    <tr>\n",
       "      <th>2017-01-05</th>\n",
       "      <td>3960.0</td>\n",
       "      <td>4030.0</td>\n",
       "      <td>3940.0</td>\n",
       "      <td>3950.0</td>\n",
       "      <td>3285.180664</td>\n",
       "      <td>74018400.0</td>\n",
       "    </tr>\n",
       "    <tr>\n",
       "      <th>2017-01-06</th>\n",
       "      <td>3970.0</td>\n",
       "      <td>4010.0</td>\n",
       "      <td>3960.0</td>\n",
       "      <td>4000.0</td>\n",
       "      <td>3326.765381</td>\n",
       "      <td>44136900.0</td>\n",
       "    </tr>\n",
       "    <tr>\n",
       "      <th>...</th>\n",
       "      <td>...</td>\n",
       "      <td>...</td>\n",
       "      <td>...</td>\n",
       "      <td>...</td>\n",
       "      <td>...</td>\n",
       "      <td>...</td>\n",
       "    </tr>\n",
       "    <tr>\n",
       "      <th>2022-08-26</th>\n",
       "      <td>4510.0</td>\n",
       "      <td>4540.0</td>\n",
       "      <td>4480.0</td>\n",
       "      <td>4490.0</td>\n",
       "      <td>4490.000000</td>\n",
       "      <td>184317100.0</td>\n",
       "    </tr>\n",
       "    <tr>\n",
       "      <th>2022-08-29</th>\n",
       "      <td>4370.0</td>\n",
       "      <td>4550.0</td>\n",
       "      <td>4360.0</td>\n",
       "      <td>4520.0</td>\n",
       "      <td>4520.000000</td>\n",
       "      <td>101529800.0</td>\n",
       "    </tr>\n",
       "    <tr>\n",
       "      <th>2022-08-30</th>\n",
       "      <td>4580.0</td>\n",
       "      <td>4620.0</td>\n",
       "      <td>4480.0</td>\n",
       "      <td>4480.0</td>\n",
       "      <td>4480.000000</td>\n",
       "      <td>118884300.0</td>\n",
       "    </tr>\n",
       "    <tr>\n",
       "      <th>2022-08-31</th>\n",
       "      <td>4420.0</td>\n",
       "      <td>4600.0</td>\n",
       "      <td>4420.0</td>\n",
       "      <td>4560.0</td>\n",
       "      <td>4560.000000</td>\n",
       "      <td>175300400.0</td>\n",
       "    </tr>\n",
       "    <tr>\n",
       "      <th>2022-09-01</th>\n",
       "      <td>4560.0</td>\n",
       "      <td>4650.0</td>\n",
       "      <td>4530.0</td>\n",
       "      <td>4580.0</td>\n",
       "      <td>4580.000000</td>\n",
       "      <td>120871700.0</td>\n",
       "    </tr>\n",
       "  </tbody>\n",
       "</table>\n",
       "<p>1422 rows × 6 columns</p>\n",
       "</div>"
      ],
      "text/plain": [
       "              Open    High     Low   Close    Adj Close       Volume\n",
       "Date                                                                \n",
       "2017-01-02  3980.0  3980.0  3980.0  3980.0  3310.131592          0.0\n",
       "2017-01-03  3950.0  3990.0  3920.0  3950.0  3285.180664   71660600.0\n",
       "2017-01-04  3880.0  3980.0  3880.0  3950.0  3285.180664   68494500.0\n",
       "2017-01-05  3960.0  4030.0  3940.0  3950.0  3285.180664   74018400.0\n",
       "2017-01-06  3970.0  4010.0  3960.0  4000.0  3326.765381   44136900.0\n",
       "...            ...     ...     ...     ...          ...          ...\n",
       "2022-08-26  4510.0  4540.0  4480.0  4490.0  4490.000000  184317100.0\n",
       "2022-08-29  4370.0  4550.0  4360.0  4520.0  4520.000000  101529800.0\n",
       "2022-08-30  4580.0  4620.0  4480.0  4480.0  4480.000000  118884300.0\n",
       "2022-08-31  4420.0  4600.0  4420.0  4560.0  4560.000000  175300400.0\n",
       "2022-09-01  4560.0  4650.0  4530.0  4580.0  4580.000000  120871700.0\n",
       "\n",
       "[1422 rows x 6 columns]"
      ]
     },
     "execution_count": 99,
     "metadata": {},
     "output_type": "execute_result"
    }
   ],
   "source": [
    "# Menampilkan data yang sudah diubah pada Date menjadi Index\n",
    "data"
   ]
  },
  {
   "cell_type": "markdown",
   "metadata": {},
   "source": [
    "Dari output diatas, dapat dilihat perbedaannya bahwa output diatas date diubah menjadi index"
   ]
  },
  {
   "cell_type": "code",
   "execution_count": 100,
   "metadata": {},
   "outputs": [],
   "source": [
    "# Menghapus column selain High untuk melihat pergerakan saham pada data High\n",
    "data = data.drop(['Open','Low','Close','Adj Close','Volume'],axis='columns')"
   ]
  },
  {
   "cell_type": "code",
   "execution_count": 101,
   "metadata": {},
   "outputs": [
    {
     "name": "stdout",
     "output_type": "stream",
     "text": [
      "High    float64\n",
      "dtype: object\n"
     ]
    }
   ],
   "source": [
    "# Melihat tipedata pada data High\n",
    "print(data.dtypes)"
   ]
  },
  {
   "cell_type": "code",
   "execution_count": 102,
   "metadata": {},
   "outputs": [
    {
     "data": {
      "text/html": [
       "<div>\n",
       "<style scoped>\n",
       "    .dataframe tbody tr th:only-of-type {\n",
       "        vertical-align: middle;\n",
       "    }\n",
       "\n",
       "    .dataframe tbody tr th {\n",
       "        vertical-align: top;\n",
       "    }\n",
       "\n",
       "    .dataframe thead th {\n",
       "        text-align: right;\n",
       "    }\n",
       "</style>\n",
       "<table border=\"1\" class=\"dataframe\">\n",
       "  <thead>\n",
       "    <tr style=\"text-align: right;\">\n",
       "      <th></th>\n",
       "      <th>High</th>\n",
       "    </tr>\n",
       "    <tr>\n",
       "      <th>Date</th>\n",
       "      <th></th>\n",
       "    </tr>\n",
       "  </thead>\n",
       "  <tbody>\n",
       "    <tr>\n",
       "      <th>2017-01-02</th>\n",
       "      <td>3980.0</td>\n",
       "    </tr>\n",
       "    <tr>\n",
       "      <th>2017-01-03</th>\n",
       "      <td>3990.0</td>\n",
       "    </tr>\n",
       "    <tr>\n",
       "      <th>2017-01-04</th>\n",
       "      <td>3980.0</td>\n",
       "    </tr>\n",
       "    <tr>\n",
       "      <th>2017-01-05</th>\n",
       "      <td>4030.0</td>\n",
       "    </tr>\n",
       "    <tr>\n",
       "      <th>2017-01-06</th>\n",
       "      <td>4010.0</td>\n",
       "    </tr>\n",
       "    <tr>\n",
       "      <th>...</th>\n",
       "      <td>...</td>\n",
       "    </tr>\n",
       "    <tr>\n",
       "      <th>2022-08-26</th>\n",
       "      <td>4540.0</td>\n",
       "    </tr>\n",
       "    <tr>\n",
       "      <th>2022-08-29</th>\n",
       "      <td>4550.0</td>\n",
       "    </tr>\n",
       "    <tr>\n",
       "      <th>2022-08-30</th>\n",
       "      <td>4620.0</td>\n",
       "    </tr>\n",
       "    <tr>\n",
       "      <th>2022-08-31</th>\n",
       "      <td>4600.0</td>\n",
       "    </tr>\n",
       "    <tr>\n",
       "      <th>2022-09-01</th>\n",
       "      <td>4650.0</td>\n",
       "    </tr>\n",
       "  </tbody>\n",
       "</table>\n",
       "<p>1422 rows × 1 columns</p>\n",
       "</div>"
      ],
      "text/plain": [
       "              High\n",
       "Date              \n",
       "2017-01-02  3980.0\n",
       "2017-01-03  3990.0\n",
       "2017-01-04  3980.0\n",
       "2017-01-05  4030.0\n",
       "2017-01-06  4010.0\n",
       "...            ...\n",
       "2022-08-26  4540.0\n",
       "2022-08-29  4550.0\n",
       "2022-08-30  4620.0\n",
       "2022-08-31  4600.0\n",
       "2022-09-01  4650.0\n",
       "\n",
       "[1422 rows x 1 columns]"
      ]
     },
     "execution_count": 102,
     "metadata": {},
     "output_type": "execute_result"
    }
   ],
   "source": [
    "# Menampilkan data High dengan index nya adalah Date\n",
    "data"
   ]
  },
  {
   "cell_type": "markdown",
   "metadata": {},
   "source": [
    "Selanjutnya adalah melakukan visualisasi data untuk memberikan informasi pada data."
   ]
  },
  {
   "cell_type": "markdown",
   "metadata": {},
   "source": [
    "# 5. Visualisasi Data"
   ]
  },
  {
   "cell_type": "code",
   "execution_count": 104,
   "metadata": {},
   "outputs": [
    {
     "data": {
      "text/plain": [
       "[<matplotlib.lines.Line2D at 0x1ff79e30fa0>]"
      ]
     },
     "execution_count": 104,
     "metadata": {},
     "output_type": "execute_result"
    },
    {
     "data": {
      "image/png": "[encoded data removed]",
      "text/plain": [
       "<Figure size 1440x720 with 1 Axes>"
      ]
     },
     "metadata": {},
     "output_type": "display_data"
    }
   ],
   "source": [
    "# Melakukan visualisasi dataset\n",
    "plt.figure(figsize=(20,10))\n",
    "sns.set_style('darkgrid')\n",
    "plt.xlabel('Date')\n",
    "plt.ylabel('High Price')\n",
    "plt.title('TELKOM Saham Stock Market High Price')\n",
    "plt.plot(data['High']) "
   ]
  },
  {
   "cell_type": "markdown",
   "metadata": {},
   "source": [
    "Dari grafik diatas, hasil visualisasi data untuk melihat High Price pada setiap periode dapat dilihat bahwa :\n",
    "1. Data belum stasioner sehingga pergerakannya tidak mengikuti rata-rata suatu nilai konstan\n",
    "2. Tidak ada musiman (seasonal) yang artinya pola yang terbentuk tidak berulang pada musim waktu tertentu\n",
    "3. Pergerakan trend setiap periode tahun tidak stabil ada kenaikan dan penurunan trend\n",
    "\n",
    "Selanjutnya, melakukan Uji Stasioneritas Data."
   ]
  },
  {
   "cell_type": "markdown",
   "metadata": {},
   "source": [
    "### Uji Stasioneritas Data"
   ]
  },
  {
   "cell_type": "code",
   "execution_count": 105,
   "metadata": {},
   "outputs": [
    {
     "data": {
      "text/plain": [
       "Date\n",
       "2017-01-02    3980.0\n",
       "2017-01-03    3990.0\n",
       "2017-01-04    3980.0\n",
       "2017-01-05    4030.0\n",
       "2017-01-06    4010.0\n",
       "2017-01-09    4030.0\n",
       "2017-01-10    4030.0\n",
       "2017-01-11    4000.0\n",
       "2017-01-12    3970.0\n",
       "2017-01-13    3970.0\n",
       "Name: High, dtype: float64"
      ]
     },
     "execution_count": 105,
     "metadata": {},
     "output_type": "execute_result"
    }
   ],
   "source": [
    "# Menginisialkan variabel High sebagai data time series\n",
    "ts = data['High']\n",
    "ts.head(10)"
   ]
  },
  {
   "cell_type": "code",
   "execution_count": 106,
   "metadata": {},
   "outputs": [],
   "source": [
    "# Deklarasi fungsi untuk mengecek stasioneritas data dengan menggunakan Uji Dickey-Fuller Test\n",
    "def test_stationarity(timeseries):\n",
    "    \n",
    "    # Determing rolling statistics\n",
    "    rolmean = timeseries.rolling(window=12).mean() \n",
    "    rolstd = timeseries.rolling(window=12).std()\n",
    "\n",
    "    # Plot rolling statistics:\n",
    "    orig = plt.plot(timeseries, color='blue',label='Original')\n",
    "    mean = plt.plot(rolmean, color='red', label='Rolling Mean')\n",
    "    std = plt.plot(rolstd, color='black', label = 'Rolling Std')\n",
    "    plt.legend(loc='best')\n",
    "    plt.title('Rolling Mean & Standard Deviation')\n",
    "    plt.show()\n",
    "    \n",
    "\n",
    "    # Perform Dickey-Fuller test:\n",
    "    print('Results of Dickey-Fuller Test:')\n",
    "    dftest = adfuller(timeseries, autolag='AIC')\n",
    "    dfoutput = pd.Series(dftest[0:4], index=['Test Statistic','p-value','#Lags Used','Number of Observations Used'])\n",
    "    for key,value in dftest[4].items():\n",
    "        dfoutput['Critical Value (%s)'%key] = value\n",
    "    print(dfoutput)"
   ]
  },
  {
   "cell_type": "markdown",
   "metadata": {},
   "source": [
    "Uji Hipotesis:\n",
    "\n",
    "H0 : Data tidak stasioner\n",
    "\n",
    "Ha : Data stasioner\n",
    "\n",
    "Tolak H0 apabila diperoleh p-value < alpha (0,05)"
   ]
  },
  {
   "cell_type": "code",
   "execution_count": 107,
   "metadata": {},
   "outputs": [
    {
     "data": {
      "image/png": "[encoded data removed]",
      "text/plain": [
       "<Figure size 432x288 with 1 Axes>"
      ]
     },
     "metadata": {},
     "output_type": "display_data"
    },
    {
     "name": "stdout",
     "output_type": "stream",
     "text": [
      "Results of Dickey-Fuller Test:\n",
      "Test Statistic                   -1.789795\n",
      "p-value                           0.385540\n",
      "#Lags Used                        2.000000\n",
      "Number of Observations Used    1419.000000\n",
      "Critical Value (1%)              -3.434967\n",
      "Critical Value (5%)              -2.863579\n",
      "Critical Value (10%)             -2.567856\n",
      "dtype: float64\n"
     ]
    }
   ],
   "source": [
    "# Melakukan uji stasioneritas untuk dataset\n",
    "test_stationarity(ts) "
   ]
  },
  {
   "cell_type": "markdown",
   "metadata": {},
   "source": [
    "Dari grafik diatas, diperoleh informasi bahwa :\n",
    "1. Nilai p-value pada saham TLKM yaitu 0,385540 > 0,05 yang berarti H0 tidak ditolak. Maka dari itu, data memiliki keadaan yang tidak stasioner.\n",
    "2. Data belum stasioner maka perlu dilakukan proses stasionerisasi data, yaitu melakukan proses differencing untuk memperoleh data yang stasioner."
   ]
  },
  {
   "cell_type": "code",
   "execution_count": 108,
   "metadata": {},
   "outputs": [
    {
     "data": {
      "text/plain": [
       "[<matplotlib.lines.Line2D at 0x1ff79d2ab20>]"
      ]
     },
     "execution_count": 108,
     "metadata": {},
     "output_type": "execute_result"
    },
    {
     "data": {
      "image/png": "[encoded data removed]",
      "text/plain": [
       "<Figure size 432x288 with 1 Axes>"
      ]
     },
     "metadata": {},
     "output_type": "display_data"
    }
   ],
   "source": [
    "ts_diff_1 = ts - ts.shift()\n",
    "ts_diff_1 = ts_diff_1.dropna()\n",
    "plt.plot(ts_diff_1) "
   ]
  },
  {
   "cell_type": "markdown",
   "metadata": {},
   "source": [
    "Dari grafik diatas dapat dilihat bahwa setelah dilakukan proses stasionerisasi data, pergerakan datanya sudah disekitar rata-rata"
   ]
  },
  {
   "cell_type": "code",
   "execution_count": 109,
   "metadata": {},
   "outputs": [
    {
     "data": {
      "image/png": "[encoded data removed]",
      "text/plain": [
       "<Figure size 432x288 with 1 Axes>"
      ]
     },
     "metadata": {},
     "output_type": "display_data"
    },
    {
     "name": "stdout",
     "output_type": "stream",
     "text": [
      "Results of Dickey-Fuller Test:\n",
      "Test Statistic                  -29.780631\n",
      "p-value                           0.000000\n",
      "#Lags Used                        1.000000\n",
      "Number of Observations Used    1419.000000\n",
      "Critical Value (1%)              -3.434967\n",
      "Critical Value (5%)              -2.863579\n",
      "Critical Value (10%)             -2.567856\n",
      "dtype: float64\n"
     ]
    }
   ],
   "source": [
    "# Melakukan uji stasioneritas untuk dataset\n",
    "test_stationarity(ts_diff_1)"
   ]
  },
  {
   "cell_type": "markdown",
   "metadata": {},
   "source": [
    "Dari grafik diatas, setelah dilakukan proses differencing dan diuji stasioneritas data (setelah differencing), diperoleh data setelah differencing 1x telah membentuk data yang stasioner. Hal tersebut dapat dilihat dari p-valuenya yaitu 0.000000 bahwa p-value < 0,05 yang artinya sesuai dengan keterangan pada uji hipotesis. Kemudian, dapat dilihat juga pada test statistics = -29.780631 < -2.863579 yang artinya pada tingkat konfidensi 95%, data sudah tergolong stasioner."
   ]
  },
  {
   "cell_type": "code",
   "execution_count": 110,
   "metadata": {},
   "outputs": [
    {
     "data": {
      "image/png": "[encoded data removed]",
      "text/plain": [
       "<Figure size 432x288 with 2 Axes>"
      ]
     },
     "metadata": {},
     "output_type": "display_data"
    }
   ],
   "source": [
    "# Melakukan plot ACF dan PACF\n",
    "plt.figure()\n",
    "plt.subplot(211)\n",
    "plot_acf(ts_diff_1, ax=plt.gca(), lags=50)\n",
    "plt.subplot(212)\n",
    "plot_pacf(ts_diff_1, ax=plt.gca(), lags=50)\n",
    "plt.show()"
   ]
  },
  {
   "cell_type": "markdown",
   "metadata": {},
   "source": [
    "Dari grafik diatas, plot ACF dan plot PACF dibentuk untuk mengetahui orde dari AR dan MA, sehingga bisa diketahui model yang sesuai untuk data."
   ]
  },
  {
   "cell_type": "markdown",
   "metadata": {},
   "source": [
    "# 6. Modelling"
   ]
  },
  {
   "cell_type": "markdown",
   "metadata": {},
   "source": [
    "Membuat model dengan menggunakan metode ARIMA dimana data trainingnya adalah 70%. Kemudian, mengevaluasi kombinasi nilai p, d dan q untuk model ARIMA dan memperoleh best model ARIMA yang dihasilkan dari data Saham Telkom"
   ]
  },
  {
   "cell_type": "code",
   "execution_count": 111,
   "metadata": {},
   "outputs": [],
   "source": [
    "def evaluate_arima_model(X, arima_order):\n",
    "\t# prepare training dataset\n",
    "\tX = X.astype('float32')\n",
    "\ttrain_size = int(len(X) * 0.7)     # data training yang digunakan adalah 70%\n",
    "\ttrain, test = X[0:train_size], X[train_size:]\n",
    "\thistory = [x for x in train]\n",
    "\t# make predictions\n",
    "\tpredictions = list()\n",
    "\tfor t in range(len(test)):\n",
    "\t\tmodel = ARIMA(history, order=arima_order)\n",
    "\t\tmodel_fit = model.fit()\n",
    "\t\tyhat = model_fit.forecast()[0]\n",
    "\t\tpredictions.append(yhat)\n",
    "\t\thistory.append(test[t])\n",
    "\t# calculate out of sample error\n",
    "\trmse = sqrt(mean_squared_error(test, predictions))\n",
    "\treturn rmse\n",
    "\n",
    "# evaluate combinations of p, d and q values for an ARIMA model\n",
    "# evaluate combinations of p, d and q values for an ARIMA model\n",
    "def evaluate_models(dataset, p_values, d_values, q_values):\n",
    "\tdataset = dataset.astype('float32')\n",
    "\tbest_score, best_cfg = float(\"inf\"), None\n",
    "\tfor p in p_values:\n",
    "\t\tfor d in d_values:\n",
    "\t\t\tfor q in q_values:\n",
    "\t\t\t\torder = (p,d,q)\n",
    "\t\t\t\ttry:\n",
    "\t\t\t\t\trmse = evaluate_arima_model(dataset, order)\n",
    "\t\t\t\t\tif rmse < best_score:\n",
    "\t\t\t\t\t\tbest_score, best_cfg = rmse, order\n",
    "\t\t\t\t\tprint('ARIMA%s RMSE=%.3f' % (order,rmse))\n",
    "\t\t\t\texcept:\n",
    "\t\t\t\t\tcontinue\n",
    "\tprint('Best ARIMA%s RMSE=%.3f' % (best_cfg, best_score))"
   ]
  },
  {
   "cell_type": "markdown",
   "metadata": {},
   "source": [
    "# 7. Evaluation"
   ]
  },
  {
   "cell_type": "code",
   "execution_count": 112,
   "metadata": {},
   "outputs": [
    {
     "name": "stdout",
     "output_type": "stream",
     "text": [
      "ARIMA(0, 0, 0) RMSE=497.555\n",
      "ARIMA(0, 0, 1) RMSE=269.919\n",
      "ARIMA(0, 1, 0) RMSE=61.315\n",
      "ARIMA(0, 1, 1) RMSE=61.386\n",
      "ARIMA(0, 1, 2) RMSE=60.693\n",
      "ARIMA(1, 0, 0) RMSE=61.286\n",
      "ARIMA(1, 0, 1) RMSE=61.364\n",
      "ARIMA(1, 0, 2) RMSE=60.703\n",
      "ARIMA(1, 1, 0) RMSE=61.372\n",
      "ARIMA(1, 1, 1) RMSE=61.474\n",
      "ARIMA(1, 1, 2) RMSE=60.845\n",
      "ARIMA(2, 0, 0) RMSE=61.348\n",
      "ARIMA(2, 0, 1) RMSE=61.431\n",
      "ARIMA(2, 0, 2) RMSE=60.826\n",
      "ARIMA(2, 1, 0) RMSE=60.647\n",
      "ARIMA(2, 1, 1) RMSE=60.814\n",
      "ARIMA(2, 1, 2) RMSE=60.852\n",
      "Best ARIMA(2, 1, 0) RMSE=60.647\n"
     ]
    }
   ],
   "source": [
    "# Melakukan evaluasi model untuk mengetahui best model ARIMA\n",
    "p_values = range(0, 3)\n",
    "d_values = range(0, 2)\n",
    "q_values = range(0, 3)\n",
    "warnings.filterwarnings(\"ignore\")\n",
    "evaluate_models(ts.values, p_values, d_values, q_values)"
   ]
  },
  {
   "cell_type": "markdown",
   "metadata": {},
   "source": [
    "Dari output diatas, setelah dilakukan percobaan dengan model ARIMA (p,d,q) dengan:\n",
    "\n",
    "- orde p = 0 dan 2\n",
    "- orde d = 0 dan 1\n",
    "- orde q = 0 dan 0\n",
    "\n",
    "Diperoleh bahwa best model ARIMA yang dihasilkan adalah dari model ARIMA yang paling terkecil, yaitu (2,1,0) dengan RMSE=60.647. Hal ini sesuai dengan plot ACF dan PACF yang dies down setelah lag ke-1 dan dataset telah mengalami 1x proses differencing"
   ]
  },
  {
   "cell_type": "code",
   "execution_count": 113,
   "metadata": {},
   "outputs": [
    {
     "data": {
      "text/plain": [
       "[<matplotlib.lines.Line2D at 0x1ff7b159d90>]"
      ]
     },
     "execution_count": 113,
     "metadata": {},
     "output_type": "execute_result"
    },
    {
     "data": {
      "image/png": "[encoded data removed]",
      "text/plain": [
       "<Figure size 432x288 with 1 Axes>"
      ]
     },
     "metadata": {},
     "output_type": "display_data"
    }
   ],
   "source": [
    "# Visualisasi perbandingan antara dataset setelah differencing dengan data hasil prediksi ARIMA(2,1,0)\n",
    "model_ARIMA = ARIMA(ts, order=(2,1,0))\n",
    "results_ARIMA = model_ARIMA.fit(disp=-1)\n",
    "predictions_ARIMA = pd.Series(results_ARIMA.fittedvalues,copy=True)\n",
    "plt.plot(ts_diff_1)             \n",
    "plt.plot(predictions_ARIMA, color='red')  "
   ]
  },
  {
   "cell_type": "markdown",
   "metadata": {},
   "source": [
    "# 8. Kebaikan Model yang Dihasilkan"
   ]
  },
  {
   "cell_type": "code",
   "execution_count": 114,
   "metadata": {},
   "outputs": [
    {
     "data": {
      "text/html": [
       "<table class=\"simpletable\">\n",
       "<caption>ARIMA Model Results</caption>\n",
       "<tr>\n",
       "  <th>Dep. Variable:</th>      <td>D.High</td>      <th>  No. Observations:  </th>   <td>1421</td>   \n",
       "</tr>\n",
       "<tr>\n",
       "  <th>Model:</th>          <td>ARIMA(2, 1, 0)</td>  <th>  Log Likelihood     </th> <td>-7835.687</td>\n",
       "</tr>\n",
       "<tr>\n",
       "  <th>Method:</th>             <td>css-mle</td>     <th>  S.D. of innovations</th>  <td>60.055</td>  \n",
       "</tr>\n",
       "<tr>\n",
       "  <th>Date:</th>          <td>Sat, 17 Sep 2022</td> <th>  AIC                </th> <td>15679.375</td>\n",
       "</tr>\n",
       "<tr>\n",
       "  <th>Time:</th>              <td>19:37:40</td>     <th>  BIC                </th> <td>15700.411</td>\n",
       "</tr>\n",
       "<tr>\n",
       "  <th>Sample:</th>                <td>1</td>        <th>  HQIC               </th> <td>15687.233</td>\n",
       "</tr>\n",
       "<tr>\n",
       "  <th></th>                       <td> </td>        <th>                     </th>     <td> </td>    \n",
       "</tr>\n",
       "</table>\n",
       "<table class=\"simpletable\">\n",
       "<tr>\n",
       "        <td></td>          <th>coef</th>     <th>std err</th>      <th>z</th>      <th>P>|z|</th>  <th>[0.025</th>    <th>0.975]</th>  \n",
       "</tr>\n",
       "<tr>\n",
       "  <th>const</th>        <td>    0.4695</td> <td>    1.428</td> <td>    0.329</td> <td> 0.742</td> <td>   -2.329</td> <td>    3.268</td>\n",
       "</tr>\n",
       "<tr>\n",
       "  <th>ar.L1.D.High</th> <td>   -0.0070</td> <td>    0.026</td> <td>   -0.265</td> <td> 0.791</td> <td>   -0.059</td> <td>    0.045</td>\n",
       "</tr>\n",
       "<tr>\n",
       "  <th>ar.L2.D.High</th> <td>   -0.1091</td> <td>    0.026</td> <td>   -4.138</td> <td> 0.000</td> <td>   -0.161</td> <td>   -0.057</td>\n",
       "</tr>\n",
       "</table>\n",
       "<table class=\"simpletable\">\n",
       "<caption>Roots</caption>\n",
       "<tr>\n",
       "    <td></td>   <th>            Real</th>  <th>         Imaginary</th> <th>         Modulus</th>  <th>        Frequency</th>\n",
       "</tr>\n",
       "<tr>\n",
       "  <th>AR.1</th> <td>          -0.0320</td> <td>          -3.0276j</td> <td>           3.0278</td> <td>          -0.2517</td>\n",
       "</tr>\n",
       "<tr>\n",
       "  <th>AR.2</th> <td>          -0.0320</td> <td>          +3.0276j</td> <td>           3.0278</td> <td>           0.2517</td>\n",
       "</tr>\n",
       "</table>"
      ],
      "text/plain": [
       "<class 'statsmodels.iolib.summary.Summary'>\n",
       "\"\"\"\n",
       "                             ARIMA Model Results                              \n",
       "==============================================================================\n",
       "Dep. Variable:                 D.High   No. Observations:                 1421\n",
       "Model:                 ARIMA(2, 1, 0)   Log Likelihood               -7835.687\n",
       "Method:                       css-mle   S.D. of innovations             60.055\n",
       "Date:                Sat, 17 Sep 2022   AIC                          15679.375\n",
       "Time:                        19:37:40   BIC                          15700.411\n",
       "Sample:                             1   HQIC                         15687.233\n",
       "                                                                              \n",
       "================================================================================\n",
       "                   coef    std err          z      P>|z|      [0.025      0.975]\n",
       "--------------------------------------------------------------------------------\n",
       "const            0.4695      1.428      0.329      0.742      -2.329       3.268\n",
       "ar.L1.D.High    -0.0070      0.026     -0.265      0.791      -0.059       0.045\n",
       "ar.L2.D.High    -0.1091      0.026     -4.138      0.000      -0.161      -0.057\n",
       "                                    Roots                                    \n",
       "=============================================================================\n",
       "                  Real          Imaginary           Modulus         Frequency\n",
       "-----------------------------------------------------------------------------\n",
       "AR.1           -0.0320           -3.0276j            3.0278           -0.2517\n",
       "AR.2           -0.0320           +3.0276j            3.0278            0.2517\n",
       "-----------------------------------------------------------------------------\n",
       "\"\"\""
      ]
     },
     "execution_count": 114,
     "metadata": {},
     "output_type": "execute_result"
    }
   ],
   "source": [
    "# Informasi yang diperoleh dari pemodelan ARIMA(2,1,0) pada dataset\n",
    "results_ARIMA.summary()"
   ]
  },
  {
   "cell_type": "markdown",
   "metadata": {},
   "source": [
    "Dari output diatas, dapat dilihat bahwa :\n",
    "- AIC yang dihasilkan adalah 15679.375 dimana hasil tersebut dapat menunjukkan bahwa AIC terkecil menandakan model yang paling baik\n",
    "- ar1 high yang dihasilkan memiliki coef sebesar -0.0070 dan ar2 high memiliki coef sebesar -0.1091"
   ]
  },
  {
   "cell_type": "markdown",
   "metadata": {},
   "source": [
    "# 9. Prediksi Data"
   ]
  },
  {
   "cell_type": "code",
   "execution_count": 116,
   "metadata": {},
   "outputs": [
    {
     "name": "stdout",
     "output_type": "stream",
     "text": [
      "1421    4652.356231\n",
      "1422    4649.765994\n",
      "1423    4647.477292\n",
      "1424    4646.250034\n",
      "1425    4645.506460\n",
      "dtype: float64\n"
     ]
    }
   ],
   "source": [
    "# Prediksi data dengan model ARIMA(2,1,0) untuk 4 hari ke depan\n",
    "predict_dif = results_ARIMA.predict(start=1422,end=1426)\n",
    "predictions_dif_cum_sum = predict_dif.cumsum()                   #prediksi differencingnya\n",
    "pred_ts = [ts[-1]]\n",
    "for i, j in enumerate(predictions_dif_cum_sum):                  #prediksi data aslinya\n",
    "  a = pred_ts[i] + j\n",
    "  pred_ts.append(a)\n",
    "predict = pd.Series(pred_ts[1:], index=predict_dif.index)\n",
    "print(predict) "
   ]
  },
  {
   "cell_type": "markdown",
   "metadata": {},
   "source": [
    "**Kesimpulan**\n",
    "\n",
    "Berdasarkan hasil prediksi data pada saat melakukan pemodelan dengan menggunakan metode ARIMA dengan data training yang digunakan adalah 70% diperoleh bahwa data yang telah dilakukan differencing 1x dan membentuk data stasioner yang menghasilkan best model ARIMA yaitu (2,1,0) dengan RMSE=60.647 dimana hal tersebut sudah sesuai dengan plot ACF dan PACF setelah lag ke-1 dan dataset telah mengalami 1x proses differencing. Dari best model ARIMA tersebut dapat memprediksikan data saham tertinggi pada Telkom untuk 4 hari kedepan dengan tipe datanya adalah float, yaitu :\n",
    "\n",
    "1. Hari 1421 dengan harga saham tertinggi 4652.356231\n",
    "2. Hari 1422 dengan harga saham tertinggi 4649.765994\n",
    "3. Hari 1423 dengan harga saham tertinggi 4647.477292\n",
    "4. Hari 1424 dengan harga saham tertinggi 4646.250034\n",
    "5. Hari 1425 dengan harga saham tertinggi 4645.506460\n",
    "\n"
   ]
  }
 ],
 "metadata": {
  "kernelspec": {
   "display_name": "Python 3 (ipykernel)",
   "language": "python",
   "name": "python3"
  },
  "language_info": {
   "codemirror_mode": {
    "name": "ipython",
    "version": 3
   },
   "file_extension": ".py",
   "mimetype": "text/x-python",
   "name": "python",
   "nbconvert_exporter": "python",
   "pygments_lexer": "ipython3",
   "version": "3.8.3"
  }
 },
 "nbformat": 4,
 "nbformat_minor": 4
}
